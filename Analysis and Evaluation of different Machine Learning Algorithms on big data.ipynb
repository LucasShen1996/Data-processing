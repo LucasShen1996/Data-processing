{
 "cells": [
  {
   "cell_type": "markdown",
   "metadata": {},
   "source": [
    "# 1. Data preparation and exploration (35%) "
   ]
  },
  {
   "cell_type": "markdown",
   "metadata": {},
   "source": [
    "# 1.1 Creating Spark Session (4%) \n",
    " \n",
    "1.\tCreate a SparkConf object for using as many local cores as possible, for a proper application name, and for changing the max partition byte configuration  to enable a minimum of  partitions when reading each file in Spark SQL (so each dataframe should have at least 4 partitions when reading from the given datafiles). \n"
   ]
  },
  {
   "cell_type": "code",
   "execution_count": 1,
   "metadata": {},
   "outputs": [],
   "source": [
    "from pyspark import SparkConf\n",
    "from pyspark import SparkContext\n",
    "from pyspark.sql import SparkSession\n",
    "master = \"local[*]\"\n",
    "app_name = \"Fit5202 Assignment2\"\n",
    "spark_conf = SparkConf().setMaster(master).setAppName(app_name).set('spark.files.maxPartitionBytes',16777216)\n"
   ]
  },
  {
   "cell_type": "markdown",
   "metadata": {},
   "source": [
    "2.\tThen create a SparkSession using the SparkConf object"
   ]
  },
  {
   "cell_type": "code",
   "execution_count": 2,
   "metadata": {},
   "outputs": [],
   "source": [
    "spark = SparkSession.builder.config(conf=spark_conf).getOrCreate()\n",
    "sc = spark.sparkContext\n",
    "sc.setLogLevel('ERROR') "
   ]
  },
  {
   "cell_type": "markdown",
   "metadata": {},
   "source": [
    "# 1.2 Loading the data (16%) \n",
    " \n",
    "1.\tLoad each activity data into a Spark dataframe and cache the data. Then print out the row count of each dataframe. \n",
    "○\tIn order to speed up the loading process, please specify the schema before reading the data into dataframes. You may find relevant schema info from the metadata file, however, note that some data may not fully comply with the schema. For those that do not comply with the schema, import them as StringType and further transform them in step 1.2.2. \n"
   ]
  },
  {
   "cell_type": "code",
   "execution_count": 3,
   "metadata": {},
   "outputs": [],
   "source": [
    "from pyspark.sql.types import StringType, IntegerType, DoubleType, StructType,StructField\n",
    "schema_memory = StructType([StructField('ts', IntegerType(), True),\n",
    "                     StructField('PID', IntegerType(), True),\n",
    "                     StructField('MINFLT', DoubleType(), True),\n",
    "                     StructField('MAJFLT', DoubleType(), True),\n",
    "                     StructField('VSTEXT', DoubleType(), True),\n",
    "                     StructField('VSIZE', DoubleType(), True),\n",
    "                     StructField('RSIZE', DoubleType(), True),\n",
    "                     StructField('VGROW', DoubleType(), True),\n",
    "                     StructField('RGROW', DoubleType(), True),\n",
    "                     StructField('MEM', DoubleType(), True),\n",
    "                     StructField('CMD', StringType(), True),\n",
    "                     StructField('attack', IntegerType(), True),\n",
    "                     StructField('type', StringType(), True)])"
   ]
  },
  {
   "cell_type": "code",
   "execution_count": 4,
   "metadata": {},
   "outputs": [],
   "source": [
    "df_lm_1 = spark.read.format('csv')\\\n",
    "            .option('header',True)\\\n",
    "            .schema(schema_memory)\\\n",
    "            .load('linux_memory_1.csv')"
   ]
  },
  {
   "cell_type": "code",
   "execution_count": 5,
   "metadata": {},
   "outputs": [],
   "source": [
    "df_lm_2 = spark.read.format('csv')\\\n",
    "            .option('header',True)\\\n",
    "            .schema(schema_memory)\\\n",
    "            .load('linux_memory_2.csv')"
   ]
  },
  {
   "cell_type": "code",
   "execution_count": 6,
   "metadata": {},
   "outputs": [
    {
     "name": "stdout",
     "output_type": "stream",
     "text": [
      "root\n",
      " |-- ts: integer (nullable = true)\n",
      " |-- PID: integer (nullable = true)\n",
      " |-- MINFLT: double (nullable = true)\n",
      " |-- MAJFLT: double (nullable = true)\n",
      " |-- VSTEXT: double (nullable = true)\n",
      " |-- VSIZE: double (nullable = true)\n",
      " |-- RSIZE: double (nullable = true)\n",
      " |-- VGROW: double (nullable = true)\n",
      " |-- RGROW: double (nullable = true)\n",
      " |-- MEM: double (nullable = true)\n",
      " |-- CMD: string (nullable = true)\n",
      " |-- attack: integer (nullable = true)\n",
      " |-- type: string (nullable = true)\n",
      "\n",
      "2000000\n"
     ]
    }
   ],
   "source": [
    "df_lm = df_lm_1.union(df_lm_2)\n",
    "df_lm.printSchema()\n",
    "print(df_lm.count())"
   ]
  },
  {
   "cell_type": "code",
   "execution_count": 7,
   "metadata": {},
   "outputs": [],
   "source": [
    "schema_process = StructType([StructField('ts', IntegerType(), True),\n",
    "                     StructField('PID', IntegerType(), True),\n",
    "                     StructField('TRUN', IntegerType(), True),\n",
    "                     StructField('TSLPI', IntegerType(), True),\n",
    "                     StructField('TSLPU', IntegerType(), True),\n",
    "                     StructField('POLI', StringType(), True),\n",
    "                     StructField('NICE', IntegerType(), True),\n",
    "                     StructField('PRI', IntegerType(), True),\n",
    "                     StructField('RTPR', IntegerType(), True),\n",
    "                     StructField('CPUNR', IntegerType(), True),\n",
    "                     StructField('Status', StringType(), True),\n",
    "                     StructField('EXC', IntegerType(), True),\n",
    "                     StructField('State', StringType(), True),\n",
    "                     StructField('CPU', DoubleType(), True),\n",
    "                     StructField('CMD', StringType(), True),\n",
    "                     StructField('attack', IntegerType(), True),\n",
    "                     StructField('type', StringType(), True)])"
   ]
  },
  {
   "cell_type": "code",
   "execution_count": 8,
   "metadata": {},
   "outputs": [],
   "source": [
    "df_lp_1 = spark.read.format('csv')\\\n",
    "            .option('header',True)\\\n",
    "            .schema(schema_process)\\\n",
    "            .load('linux_process_1.csv')"
   ]
  },
  {
   "cell_type": "code",
   "execution_count": 9,
   "metadata": {},
   "outputs": [],
   "source": [
    "df_lp_2 = spark.read.format('csv')\\\n",
    "            .option('header',True)\\\n",
    "            .schema(schema_process)\\\n",
    "            .load('linux_process_2.csv')"
   ]
  },
  {
   "cell_type": "code",
   "execution_count": 10,
   "metadata": {},
   "outputs": [
    {
     "name": "stdout",
     "output_type": "stream",
     "text": [
      "root\n",
      " |-- ts: integer (nullable = true)\n",
      " |-- PID: integer (nullable = true)\n",
      " |-- TRUN: integer (nullable = true)\n",
      " |-- TSLPI: integer (nullable = true)\n",
      " |-- TSLPU: integer (nullable = true)\n",
      " |-- POLI: string (nullable = true)\n",
      " |-- NICE: integer (nullable = true)\n",
      " |-- PRI: integer (nullable = true)\n",
      " |-- RTPR: integer (nullable = true)\n",
      " |-- CPUNR: integer (nullable = true)\n",
      " |-- Status: string (nullable = true)\n",
      " |-- EXC: integer (nullable = true)\n",
      " |-- State: string (nullable = true)\n",
      " |-- CPU: double (nullable = true)\n",
      " |-- CMD: string (nullable = true)\n",
      " |-- attack: integer (nullable = true)\n",
      " |-- type: string (nullable = true)\n",
      "\n",
      "1927968\n"
     ]
    }
   ],
   "source": [
    "df_lp = df_lp_1.union(df_lp_2)\n",
    "df_lp.printSchema()\n",
    "print(df_lp.count())"
   ]
  },
  {
   "cell_type": "markdown",
   "metadata": {},
   "source": [
    "2.\tFor each column in each dataframe above,  \n",
    "○\tCheck the null data (if any) and print out the corresponding count in each column \n",
    "○ Are these columns 'MINFLT', 'MAJFLT', 'VSTEXT', 'RSIZE', 'VGROW', 'RGROW' in memory data following the datatype from the metadata file? If not, please transform them into the proper formats \n"
   ]
  },
  {
   "cell_type": "code",
   "execution_count": 11,
   "metadata": {},
   "outputs": [],
   "source": [
    "from pyspark.sql.functions import isnan, when, count, col, lit,explode,array"
   ]
  },
  {
   "cell_type": "code",
   "execution_count": 12,
   "metadata": {},
   "outputs": [
    {
     "name": "stdout",
     "output_type": "stream",
     "text": [
      "+---+---+------+------+------+-----+-----+-----+-----+---+---+------+----+\n",
      "| ts|PID|MINFLT|MAJFLT|VSTEXT|VSIZE|RSIZE|VGROW|RGROW|MEM|CMD|attack|type|\n",
      "+---+---+------+------+------+-----+-----+-----+-----+---+---+------+----+\n",
      "|  0|  0|  9737|  8800|  8800|    0| 9728|49552| 9737|  0|  0|     0|   0|\n",
      "+---+---+------+------+------+-----+-----+-----+-----+---+---+------+----+\n",
      "\n"
     ]
    }
   ],
   "source": [
    "df_lm.select([count(when(isnan(c) | col(c).isNull(), c)).alias(c) for c in df_lm.columns]).show()\n",
    "df_lm=df_lm.na.drop()"
   ]
  },
  {
   "cell_type": "code",
   "execution_count": 13,
   "metadata": {},
   "outputs": [
    {
     "name": "stdout",
     "output_type": "stream",
     "text": [
      "+---+---+------+------+------+-----+-----+-----+-----+---+---+------+----+\n",
      "| ts|PID|MINFLT|MAJFLT|VSTEXT|VSIZE|RSIZE|VGROW|RGROW|MEM|CMD|attack|type|\n",
      "+---+---+------+------+------+-----+-----+-----+-----+---+---+------+----+\n",
      "|  0|  0|     0|     0|     0|    0|    0|    0|    0|  0|  0|     0|   0|\n",
      "+---+---+------+------+------+-----+-----+-----+-----+---+---+------+----+\n",
      "\n"
     ]
    }
   ],
   "source": [
    "df_lm.select([count(when(isnan(c) | col(c).isNull(), c)).alias(c) for c in df_lm.columns]).show()"
   ]
  },
  {
   "cell_type": "code",
   "execution_count": 14,
   "metadata": {},
   "outputs": [
    {
     "name": "stdout",
     "output_type": "stream",
     "text": [
      "+---+---+----+-----+-----+----+----+---+----+-----+------+---+-----+---+---+------+----+\n",
      "| ts|PID|TRUN|TSLPI|TSLPU|POLI|NICE|PRI|RTPR|CPUNR|Status|EXC|State|CPU|CMD|attack|type|\n",
      "+---+---+----+-----+-----+----+----+---+----+-----+------+---+-----+---+---+------+----+\n",
      "|  0|  0|   0|    0|    0|   0|   0|  0|   0|    0|     0|  0|    0|  0|  0|     0|   0|\n",
      "+---+---+----+-----+-----+----+----+---+----+-----+------+---+-----+---+---+------+----+\n",
      "\n"
     ]
    }
   ],
   "source": [
    "df_lp.select([count(when(isnan(c) | col(c).isNull(), c)).alias(c) for c in df_lp.columns]).show()"
   ]
  },
  {
   "cell_type": "markdown",
   "metadata": {},
   "source": [
    "# 1.3 Exploring the data (15%) \n",
    " \n",
    "1.\tShow the count of attack and non-attack in each activity based on the column “attack”, then show the count of each kind of attack in process activity based on the column “type”. \n",
    "○\tDo you see any class imbalance? Examine and describe what you observe \n"
   ]
  },
  {
   "cell_type": "code",
   "execution_count": 15,
   "metadata": {},
   "outputs": [
    {
     "name": "stdout",
     "output_type": "stream",
     "text": [
      "+-------------+-------+\n",
      "|attack result|  count|\n",
      "+-------------+-------+\n",
      "|       attack| 192922|\n",
      "|   non-attack|1757524|\n",
      "+-------------+-------+\n",
      "\n"
     ]
    }
   ],
   "source": [
    "import pyspark.sql.functions as F\n",
    "df_lm.groupBy('attack')\\\n",
    "    .agg(F.count('attack').alias('count'))\\\n",
    "    .withColumn('attack result', when(col('attack') == 1, \"attack\").otherwise(\"non-attack\"))\\\n",
    "    .select('attack result','count').show()"
   ]
  },
  {
   "cell_type": "code",
   "execution_count": 16,
   "metadata": {},
   "outputs": [
    {
     "name": "stdout",
     "output_type": "stream",
     "text": [
      "+-------------+-------+\n",
      "|attack result|  count|\n",
      "+-------------+-------+\n",
      "|       attack| 291364|\n",
      "|   non-attack|1636604|\n",
      "+-------------+-------+\n",
      "\n"
     ]
    }
   ],
   "source": [
    "df_lp.groupBy('attack')\\\n",
    "    .agg(F.count('attack').alias('count'))\\\n",
    "    .withColumn('attack result', when(col('attack') == 1, \"attack\").otherwise(\"non-attack\"))\\\n",
    "    .select('attack result','count').show()"
   ]
  },
  {
   "cell_type": "code",
   "execution_count": 17,
   "metadata": {},
   "outputs": [
    {
     "name": "stdout",
     "output_type": "stream",
     "text": [
      "+---------+-----+\n",
      "|     type|count|\n",
      "+---------+-----+\n",
      "| password|26016|\n",
      "|     ddos|36356|\n",
      "|     mitm|  112|\n",
      "|injection|58523|\n",
      "|      dos|71915|\n",
      "+---------+-----+\n",
      "\n"
     ]
    }
   ],
   "source": [
    "df_lm.filter(col('attack')==1).groupBy('type').agg(F.count('type').alias('count')).show()"
   ]
  },
  {
   "cell_type": "code",
   "execution_count": 18,
   "metadata": {},
   "outputs": [
    {
     "name": "stdout",
     "output_type": "stream",
     "text": [
      "+---------+-----+\n",
      "|     type|count|\n",
      "+---------+-----+\n",
      "|      xss|17759|\n",
      "| password|51409|\n",
      "| scanning|38449|\n",
      "|     ddos|71603|\n",
      "|     mitm|  112|\n",
      "|injection|41311|\n",
      "|      dos|70721|\n",
      "+---------+-----+\n",
      "\n"
     ]
    }
   ],
   "source": [
    "df_lp.filter(col('attack')==1).groupBy('type').agg(F.count('type').alias('count')).show()"
   ]
  },
  {
   "cell_type": "markdown",
   "metadata": {},
   "source": [
    "Comparing Linux process and Linux memory, the number of nonattack is Much larger than attack and do not exsit 'xss'and 'scanning' attack in Linux process.\n"
   ]
  },
  {
   "cell_type": "markdown",
   "metadata": {},
   "source": [
    "2.\tFor each numeric feature in each activity, show the basic statistics (including count, mean, stddev, min, max); for each non-numeric feature in each activity, display the top-10 values and the corresponding counts.  \n",
    "○\tNo need to show the labels at “attack” or “type” column \n"
   ]
  },
  {
   "cell_type": "code",
   "execution_count": 19,
   "metadata": {},
   "outputs": [
    {
     "data": {
      "text/html": [
       "<div>\n",
       "<style scoped>\n",
       "    .dataframe tbody tr th:only-of-type {\n",
       "        vertical-align: middle;\n",
       "    }\n",
       "\n",
       "    .dataframe tbody tr th {\n",
       "        vertical-align: top;\n",
       "    }\n",
       "\n",
       "    .dataframe thead th {\n",
       "        text-align: right;\n",
       "    }\n",
       "</style>\n",
       "<table border=\"1\" class=\"dataframe\">\n",
       "  <thead>\n",
       "    <tr style=\"text-align: right;\">\n",
       "      <th></th>\n",
       "      <th>summary</th>\n",
       "      <th>ts</th>\n",
       "      <th>PID</th>\n",
       "      <th>MINFLT</th>\n",
       "      <th>MAJFLT</th>\n",
       "      <th>VSTEXT</th>\n",
       "      <th>VSIZE</th>\n",
       "      <th>RSIZE</th>\n",
       "      <th>VGROW</th>\n",
       "      <th>RGROW</th>\n",
       "      <th>MEM</th>\n",
       "      <th>attack</th>\n",
       "    </tr>\n",
       "  </thead>\n",
       "  <tbody>\n",
       "    <tr>\n",
       "      <th>0</th>\n",
       "      <td>count</td>\n",
       "      <td>1950446</td>\n",
       "      <td>1950446</td>\n",
       "      <td>1950446</td>\n",
       "      <td>1950446</td>\n",
       "      <td>1950446</td>\n",
       "      <td>1950446</td>\n",
       "      <td>1950446</td>\n",
       "      <td>1950446</td>\n",
       "      <td>1950446</td>\n",
       "      <td>1950446</td>\n",
       "      <td>1950446</td>\n",
       "    </tr>\n",
       "    <tr>\n",
       "      <th>1</th>\n",
       "      <td>mean</td>\n",
       "      <td>1.5562263873997107E9</td>\n",
       "      <td>4994.528547829574</td>\n",
       "      <td>410.0361414773852</td>\n",
       "      <td>1129.0286145322486</td>\n",
       "      <td>2366.7160978053557</td>\n",
       "      <td>4610.658245807024</td>\n",
       "      <td>6266.9833637023785</td>\n",
       "      <td>187.89398558073387</td>\n",
       "      <td>424.2662272628927</td>\n",
       "      <td>0.0032630434269890103</td>\n",
       "      <td>0.09891173608497748</td>\n",
       "    </tr>\n",
       "    <tr>\n",
       "      <th>2</th>\n",
       "      <td>stddev</td>\n",
       "      <td>984048.9982963833</td>\n",
       "      <td>4855.911078911934</td>\n",
       "      <td>17360.36571385351</td>\n",
       "      <td>5239.083923877914</td>\n",
       "      <td>6486.300541374661</td>\n",
       "      <td>9131.740908403795</td>\n",
       "      <td>16055.13219572627</td>\n",
       "      <td>2961.0208224821263</td>\n",
       "      <td>1412.3096557875945</td>\n",
       "      <td>0.010554475230237528</td>\n",
       "      <td>0.29854354832415575</td>\n",
       "    </tr>\n",
       "    <tr>\n",
       "      <th>3</th>\n",
       "      <td>min</td>\n",
       "      <td>1554216855</td>\n",
       "      <td>1007</td>\n",
       "      <td>0.0</td>\n",
       "      <td>0.0</td>\n",
       "      <td>0.0</td>\n",
       "      <td>0.0</td>\n",
       "      <td>-9728.0</td>\n",
       "      <td>-8652.0</td>\n",
       "      <td>0.0</td>\n",
       "      <td>0.0</td>\n",
       "      <td>0</td>\n",
       "    </tr>\n",
       "    <tr>\n",
       "      <th>4</th>\n",
       "      <td>max</td>\n",
       "      <td>1558355716</td>\n",
       "      <td>53096</td>\n",
       "      <td>8050000.0</td>\n",
       "      <td>107776.0</td>\n",
       "      <td>99992.0</td>\n",
       "      <td>88040.0</td>\n",
       "      <td>99932.0</td>\n",
       "      <td>99684.0</td>\n",
       "      <td>98920.0</td>\n",
       "      <td>0.4</td>\n",
       "      <td>1</td>\n",
       "    </tr>\n",
       "  </tbody>\n",
       "</table>\n",
       "</div>"
      ],
      "text/plain": [
       "  summary                    ts                PID             MINFLT  \\\n",
       "0   count               1950446            1950446            1950446   \n",
       "1    mean  1.5562263873997107E9  4994.528547829574  410.0361414773852   \n",
       "2  stddev     984048.9982963833  4855.911078911934  17360.36571385351   \n",
       "3     min            1554216855               1007                0.0   \n",
       "4     max            1558355716              53096          8050000.0   \n",
       "\n",
       "               MAJFLT              VSTEXT              VSIZE  \\\n",
       "0             1950446             1950446            1950446   \n",
       "1  1129.0286145322486  2366.7160978053557  4610.658245807024   \n",
       "2   5239.083923877914   6486.300541374661  9131.740908403795   \n",
       "3                 0.0                 0.0                0.0   \n",
       "4            107776.0             99992.0            88040.0   \n",
       "\n",
       "                RSIZE               VGROW               RGROW  \\\n",
       "0             1950446             1950446             1950446   \n",
       "1  6266.9833637023785  187.89398558073387   424.2662272628927   \n",
       "2   16055.13219572627  2961.0208224821263  1412.3096557875945   \n",
       "3             -9728.0             -8652.0                 0.0   \n",
       "4             99932.0             99684.0             98920.0   \n",
       "\n",
       "                     MEM               attack  \n",
       "0                1950446              1950446  \n",
       "1  0.0032630434269890103  0.09891173608497748  \n",
       "2   0.010554475230237528  0.29854354832415575  \n",
       "3                    0.0                    0  \n",
       "4                    0.4                    1  "
      ]
     },
     "execution_count": 19,
     "metadata": {},
     "output_type": "execute_result"
    }
   ],
   "source": [
    "unnum_col_lm = [item[0] for item in df_lm.dtypes if item[1].startswith('string')]\n",
    "nume_col_lm = [item[0] for item in df_lm.dtypes if item[0] not in unnum_col_lm]\n",
    "df_lm.select(nume_col_lm).describe().toPandas().head()"
   ]
  },
  {
   "cell_type": "code",
   "execution_count": 20,
   "metadata": {},
   "outputs": [
    {
     "name": "stdout",
     "output_type": "stream",
     "text": [
      "['CMD', 'type']\n"
     ]
    }
   ],
   "source": [
    "print(unnum_col_lm)"
   ]
  },
  {
   "cell_type": "code",
   "execution_count": 21,
   "metadata": {},
   "outputs": [
    {
     "name": "stdout",
     "output_type": "stream",
     "text": [
      "+----------+------+\n",
      "|       CMD|counts|\n",
      "+----------+------+\n",
      "|      atop|325985|\n",
      "| jfsCommit| 81714|\n",
      "|   apache2| 80952|\n",
      "|  vmtoolsd| 77871|\n",
      "|      Xorg| 46243|\n",
      "|  nautilus| 45529|\n",
      "|irqbalance| 44387|\n",
      "|    compiz| 44356|\n",
      "|  ostinato| 43024|\n",
      "|     drone| 41392|\n",
      "+----------+------+\n",
      "only showing top 10 rows\n",
      "\n"
     ]
    }
   ],
   "source": [
    "df_lm.groupBy(unnum_col_lm[0]).agg(F.count(unnum_col_lm[0]).alias('counts')).sort('counts', ascending=False).show(10)"
   ]
  },
  {
   "cell_type": "code",
   "execution_count": 22,
   "metadata": {},
   "outputs": [
    {
     "name": "stdout",
     "output_type": "stream",
     "text": [
      "+---------+-------+\n",
      "|     type| counts|\n",
      "+---------+-------+\n",
      "|   normal|1757524|\n",
      "|      dos|  71915|\n",
      "|injection|  58523|\n",
      "|     ddos|  36356|\n",
      "| password|  26016|\n",
      "|     mitm|    112|\n",
      "+---------+-------+\n",
      "\n"
     ]
    }
   ],
   "source": [
    "df_lm.groupBy(unnum_col_lm[1]).agg(F.count(unnum_col_lm[1]).alias('counts')).sort('counts', ascending=False).show(10)"
   ]
  },
  {
   "cell_type": "code",
   "execution_count": 23,
   "metadata": {},
   "outputs": [
    {
     "data": {
      "text/html": [
       "<div>\n",
       "<style scoped>\n",
       "    .dataframe tbody tr th:only-of-type {\n",
       "        vertical-align: middle;\n",
       "    }\n",
       "\n",
       "    .dataframe tbody tr th {\n",
       "        vertical-align: top;\n",
       "    }\n",
       "\n",
       "    .dataframe thead th {\n",
       "        text-align: right;\n",
       "    }\n",
       "</style>\n",
       "<table border=\"1\" class=\"dataframe\">\n",
       "  <thead>\n",
       "    <tr style=\"text-align: right;\">\n",
       "      <th></th>\n",
       "      <th>summary</th>\n",
       "      <th>ts</th>\n",
       "      <th>PID</th>\n",
       "      <th>TRUN</th>\n",
       "      <th>TSLPI</th>\n",
       "      <th>TSLPU</th>\n",
       "      <th>NICE</th>\n",
       "      <th>PRI</th>\n",
       "      <th>RTPR</th>\n",
       "      <th>CPUNR</th>\n",
       "      <th>EXC</th>\n",
       "      <th>CPU</th>\n",
       "      <th>attack</th>\n",
       "    </tr>\n",
       "  </thead>\n",
       "  <tbody>\n",
       "    <tr>\n",
       "      <th>0</th>\n",
       "      <td>count</td>\n",
       "      <td>1927968</td>\n",
       "      <td>1927968</td>\n",
       "      <td>1927968</td>\n",
       "      <td>1927968</td>\n",
       "      <td>1927968</td>\n",
       "      <td>1927968</td>\n",
       "      <td>1927968</td>\n",
       "      <td>1927968</td>\n",
       "      <td>1927968</td>\n",
       "      <td>1927968</td>\n",
       "      <td>1927968</td>\n",
       "      <td>1927968</td>\n",
       "    </tr>\n",
       "    <tr>\n",
       "      <th>1</th>\n",
       "      <td>mean</td>\n",
       "      <td>1.5563198311840394E9</td>\n",
       "      <td>5068.709770597852</td>\n",
       "      <td>0.0632287465352122</td>\n",
       "      <td>3.508334163222626</td>\n",
       "      <td>3.6100184235422994E-4</td>\n",
       "      <td>4.634469555511295</td>\n",
       "      <td>111.26826741937626</td>\n",
       "      <td>0.0</td>\n",
       "      <td>1.9210142491991569</td>\n",
       "      <td>0.030275398761805176</td>\n",
       "      <td>0.02238527299209422</td>\n",
       "      <td>0.1511249149363475</td>\n",
       "    </tr>\n",
       "    <tr>\n",
       "      <th>2</th>\n",
       "      <td>stddev</td>\n",
       "      <td>771350.0248085853</td>\n",
       "      <td>4987.784329320536</td>\n",
       "      <td>0.24782587090415972</td>\n",
       "      <td>6.988459728531787</td>\n",
       "      <td>0.04421874419214565</td>\n",
       "      <td>8.403189864752047</td>\n",
       "      <td>22.624445062103057</td>\n",
       "      <td>0.0</td>\n",
       "      <td>1.5274047225902976</td>\n",
       "      <td>1.4619498567691755</td>\n",
       "      <td>0.13628943687184258</td>\n",
       "      <td>0.3581706877473934</td>\n",
       "    </tr>\n",
       "    <tr>\n",
       "      <th>3</th>\n",
       "      <td>min</td>\n",
       "      <td>1554216855</td>\n",
       "      <td>1007</td>\n",
       "      <td>0</td>\n",
       "      <td>0</td>\n",
       "      <td>0</td>\n",
       "      <td>0</td>\n",
       "      <td>0</td>\n",
       "      <td>0</td>\n",
       "      <td>0</td>\n",
       "      <td>0</td>\n",
       "      <td>0.0</td>\n",
       "      <td>0</td>\n",
       "    </tr>\n",
       "    <tr>\n",
       "      <th>4</th>\n",
       "      <td>max</td>\n",
       "      <td>1557593017</td>\n",
       "      <td>53080</td>\n",
       "      <td>12</td>\n",
       "      <td>70</td>\n",
       "      <td>21</td>\n",
       "      <td>20</td>\n",
       "      <td>139</td>\n",
       "      <td>0</td>\n",
       "      <td>5</td>\n",
       "      <td>127</td>\n",
       "      <td>4.02</td>\n",
       "      <td>1</td>\n",
       "    </tr>\n",
       "  </tbody>\n",
       "</table>\n",
       "</div>"
      ],
      "text/plain": [
       "  summary                    ts                PID                 TRUN  \\\n",
       "0   count               1927968            1927968              1927968   \n",
       "1    mean  1.5563198311840394E9  5068.709770597852   0.0632287465352122   \n",
       "2  stddev     771350.0248085853  4987.784329320536  0.24782587090415972   \n",
       "3     min            1554216855               1007                    0   \n",
       "4     max            1557593017              53080                   12   \n",
       "\n",
       "               TSLPI                  TSLPU               NICE  \\\n",
       "0            1927968                1927968            1927968   \n",
       "1  3.508334163222626  3.6100184235422994E-4  4.634469555511295   \n",
       "2  6.988459728531787    0.04421874419214565  8.403189864752047   \n",
       "3                  0                      0                  0   \n",
       "4                 70                     21                 20   \n",
       "\n",
       "                  PRI     RTPR               CPUNR                   EXC  \\\n",
       "0             1927968  1927968             1927968               1927968   \n",
       "1  111.26826741937626      0.0  1.9210142491991569  0.030275398761805176   \n",
       "2  22.624445062103057      0.0  1.5274047225902976    1.4619498567691755   \n",
       "3                   0        0                   0                     0   \n",
       "4                 139        0                   5                   127   \n",
       "\n",
       "                   CPU              attack  \n",
       "0              1927968             1927968  \n",
       "1  0.02238527299209422  0.1511249149363475  \n",
       "2  0.13628943687184258  0.3581706877473934  \n",
       "3                  0.0                   0  \n",
       "4                 4.02                   1  "
      ]
     },
     "execution_count": 23,
     "metadata": {},
     "output_type": "execute_result"
    }
   ],
   "source": [
    "unnum_col_lp = [item[0] for item in df_lp.dtypes if item[1].startswith('string')]\n",
    "nume_col_lp = [item[0] for item in df_lp.dtypes if item[0] not in unnum_col_lp]\n",
    "df_lp.select(nume_col_lp).describe().toPandas().head()"
   ]
  },
  {
   "cell_type": "code",
   "execution_count": 24,
   "metadata": {},
   "outputs": [
    {
     "name": "stdout",
     "output_type": "stream",
     "text": [
      "['POLI', 'Status', 'State', 'CMD', 'type']\n"
     ]
    }
   ],
   "source": [
    "print(unnum_col_lp)"
   ]
  },
  {
   "cell_type": "code",
   "execution_count": 25,
   "metadata": {},
   "outputs": [
    {
     "name": "stdout",
     "output_type": "stream",
     "text": [
      "+----+-------+\n",
      "|POLI| counts|\n",
      "+----+-------+\n",
      "|norm|1861558|\n",
      "|   0|  53216|\n",
      "|   -|  13194|\n",
      "+----+-------+\n",
      "\n"
     ]
    }
   ],
   "source": [
    "df_lp.groupBy(unnum_col_lp[0]).agg(F.count(unnum_col_lp[0]).alias('counts')).sort('counts', ascending=False).show(10)"
   ]
  },
  {
   "cell_type": "code",
   "execution_count": 26,
   "metadata": {},
   "outputs": [
    {
     "name": "stdout",
     "output_type": "stream",
     "text": [
      "+------+-------+\n",
      "|Status| counts|\n",
      "+------+-------+\n",
      "|     -|1416322|\n",
      "|     0| 438984|\n",
      "|    NE|  48602|\n",
      "|     N|  23313|\n",
      "|    NS|    743|\n",
      "|     C|      3|\n",
      "|    NC|      1|\n",
      "+------+-------+\n",
      "\n"
     ]
    }
   ],
   "source": [
    "df_lp.groupBy(unnum_col_lp[1]).agg(F.count(unnum_col_lp[1]).alias('counts')).sort('counts', ascending=False).show(10)"
   ]
  },
  {
   "cell_type": "code",
   "execution_count": 27,
   "metadata": {},
   "outputs": [
    {
     "name": "stdout",
     "output_type": "stream",
     "text": [
      "+-----+-------+\n",
      "|State| counts|\n",
      "+-----+-------+\n",
      "|    S|1676350|\n",
      "|    I|  98986|\n",
      "|    R|  84753|\n",
      "|    E|  66410|\n",
      "|    Z|   1118|\n",
      "|    D|    344|\n",
      "|    T|      7|\n",
      "+-----+-------+\n",
      "\n"
     ]
    }
   ],
   "source": [
    "df_lp.groupBy(unnum_col_lp[2]).agg(F.count(unnum_col_lp[2]).alias('counts')).sort('counts', ascending=False).show(10)"
   ]
  },
  {
   "cell_type": "code",
   "execution_count": 28,
   "metadata": {},
   "outputs": [
    {
     "name": "stdout",
     "output_type": "stream",
     "text": [
      "+--------------+------+\n",
      "|           CMD|counts|\n",
      "+--------------+------+\n",
      "|          atop|441180|\n",
      "|       apache2|313143|\n",
      "|      vmtoolsd|112029|\n",
      "|          Xorg| 66813|\n",
      "|      nautilus| 63449|\n",
      "|gnome-terminal| 47628|\n",
      "|        compiz| 44386|\n",
      "|    irqbalance| 44324|\n",
      "|      ostinato| 42979|\n",
      "|         drone| 41390|\n",
      "+--------------+------+\n",
      "only showing top 10 rows\n",
      "\n"
     ]
    }
   ],
   "source": [
    "df_lp.groupBy(unnum_col_lp[3]).agg(F.count(unnum_col_lp[3]).alias('counts')).sort('counts', ascending=False).show(10)"
   ]
  },
  {
   "cell_type": "code",
   "execution_count": 29,
   "metadata": {},
   "outputs": [
    {
     "name": "stdout",
     "output_type": "stream",
     "text": [
      "+---------+-------+\n",
      "|     type| counts|\n",
      "+---------+-------+\n",
      "|   normal|1636604|\n",
      "|     ddos|  71603|\n",
      "|      dos|  70721|\n",
      "| password|  51409|\n",
      "|injection|  41311|\n",
      "| scanning|  38449|\n",
      "|      xss|  17759|\n",
      "|     mitm|    112|\n",
      "+---------+-------+\n",
      "\n"
     ]
    }
   ],
   "source": [
    "df_lp.groupBy(unnum_col_lp[4]).agg(F.count(unnum_col_lp[4]).alias('counts')).sort('counts', ascending=False).show(10)"
   ]
  },
  {
   "cell_type": "markdown",
   "metadata": {},
   "source": [
    "3.\tFor each activity, present two plots  worthy of presenting to the StopHacking company, describe your plots and discuss the findings from the plots \n",
    "○\tHint - 1: you can use the basic plots (e.g. histograms, line charts, scatter plots) for relationship between a column and the “attack” label (such as “ts” and “attack”, “PID” and “attack”); or more advanced plots like correlation plots for relationship between each column; 2: if your data is too large for the plotting, consider using sampling before plotting \n",
    "\t○\t100 words max for each plot’s description and discussion \n"
   ]
  },
  {
   "cell_type": "code",
   "execution_count": 30,
   "metadata": {},
   "outputs": [],
   "source": [
    "import matplotlib.pyplot as plt\n",
    "import numpy as np\n",
    "\n",
    "def bar_chart(x, y,a,b, title):\n",
    "    x_pos = np.arange(len(x))\n",
    "    a_pos = np.arange(len(a))\n",
    "    total_width, n = 0.8, 2\n",
    "    width = total_width / n\n",
    "    x_pos = x_pos - (total_width - width) / 2\n",
    "    a_pos = a_pos - (total_width - width) / 2\n",
    "    plt.bar(x_pos, y,  width=width, label='Linux Memory')\n",
    "    plt.bar(a_pos + width, b, width=width, label='Linux Process')\n",
    "    plt.xticks(a_pos,a)\n",
    "    plt.title(title)\n",
    "    plt.legend()\n",
    "    plt.show()"
   ]
  },
  {
   "cell_type": "code",
   "execution_count": 31,
   "metadata": {},
   "outputs": [],
   "source": [
    "def pie_chart(labels_1, sizes_1,labels_2, sizes_2, title):\n",
    "    \n",
    "    fig,ax = plt.subplots()\n",
    "    colors = ['red','green','blue','yellow','pink','cyan','magenta']\n",
    "    pie_1 = ax.pie(sizes_2,startangle=90,autopct='%1.1f%%',radius=2,pctdistance = 0.9,colors=colors, labels=labels_2)\n",
    "    pie_2 = ax.pie(sizes_1,startangle=90,autopct='%1.1f%%',radius=1.5,pctdistance = 0.6,colors=colors)\n",
    "\n",
    "   \n",
    "    for pie_wedge in pie_1[0]:\n",
    "        pie_wedge.set_edgecolor('black')\n",
    "    for pie_wedge in pie_2[0]:\n",
    "        pie_wedge.set_edgecolor('black')\n",
    "\n",
    "    ax.set(aspect=\"equal\")\n",
    "    plt.title(title,y=1.5)\n",
    "    plt.legend(bbox_to_anchor=(1.6, 0), loc=3, borderaxespad=0)\n",
    "    plt.show()"
   ]
  },
  {
   "cell_type": "code",
   "execution_count": 32,
   "metadata": {},
   "outputs": [],
   "source": [
    "rows_lm = df_lm.filter(col('attack')==1).groupBy('type').agg(F.count('type').alias('counts')).orderBy('type').collect()\n",
    "type_lm = [row.type for row in rows_lm]\n",
    "count_lm = [row.counts for row in rows_lm]\n",
    "rows_lp = df_lp.filter(col('attack')==1).groupBy('type').agg(F.count('type').alias('counts')).orderBy('type').collect()\n",
    "type_lp = [row.type for row in rows_lp]\n",
    "count_lp = [row.counts for row in rows_lp]"
   ]
  },
  {
   "cell_type": "code",
   "execution_count": 33,
   "metadata": {},
   "outputs": [
    {
     "data": {
      "image/png": "[encoded data removed]",
      "text/plain": [
       "<Figure size 432x288 with 1 Axes>"
      ]
     },
     "metadata": {
      "needs_background": "light"
     },
     "output_type": "display_data"
    }
   ],
   "source": [
    "bar_chart(type_lm,count_lm,type_lp,count_lp,'Attack Type Bar Chart')"
   ]
  },
  {
   "cell_type": "code",
   "execution_count": 34,
   "metadata": {},
   "outputs": [
    {
     "data": {
      "image/png": "[encoded data removed]",
      "text/plain": [
       "<Figure size 432x288 with 1 Axes>"
      ]
     },
     "metadata": {},
     "output_type": "display_data"
    }
   ],
   "source": [
    "pie_chart(type_lm,count_lm,type_lp,count_lp,'Attack Type Pie Chart')"
   ]
  },
  {
   "cell_type": "code",
   "execution_count": 35,
   "metadata": {},
   "outputs": [
    {
     "name": "stdout",
     "output_type": "stream",
     "text": [
      "+----------+------+\n",
      "|        ts|counts|\n",
      "+----------+------+\n",
      "|1556286993|     3|\n",
      "|1556302498|     3|\n",
      "|1556290163|     3|\n",
      "|1556291188|     3|\n",
      "|1556291548|     3|\n",
      "|1556292308|     3|\n",
      "|1556294008|     3|\n",
      "|1556294448|     3|\n",
      "|1556294768|     3|\n",
      "|1556296488|     3|\n",
      "+----------+------+\n",
      "only showing top 10 rows\n",
      "\n"
     ]
    }
   ],
   "source": [
    "rows_lm=df_lm.filter(col('attack')==1).groupBy('ts').agg(F.count('attack').alias('counts')).sort('counts', ascending=False).show(10)\n"
   ]
  },
  {
   "cell_type": "code",
   "execution_count": 36,
   "metadata": {},
   "outputs": [],
   "source": [
    "rows_PID_lm=df_lm.filter(col('attack')==1)\\\n",
    "    .groupBy('PID')\\\n",
    "    .agg(F.count('attack').alias('counts'))\\\n",
    "    .sort('counts', ascending=False).rdd.takeSample(False,10)\n",
    "type_PID_lm = [row.PID for row in rows_PID_lm]\n",
    "count_PID_lm = [row.counts for row in rows_PID_lm]"
   ]
  },
  {
   "cell_type": "code",
   "execution_count": 37,
   "metadata": {},
   "outputs": [],
   "source": [
    "rows_PID_lp=df_lp.filter(col('attack')==1)\\\n",
    "    .groupBy('PID')\\\n",
    "    .agg(F.count('attack').alias('counts'))\\\n",
    "    .sort('counts', ascending=False).rdd.takeSample(False,10)\n",
    "type_PID_lp = [row.PID for row in rows_PID_lp]\n",
    "count_PID_lp = [row.counts for row in rows_PID_lp]"
   ]
  },
  {
   "cell_type": "code",
   "execution_count": 38,
   "metadata": {},
   "outputs": [
    {
     "data": {
      "image/png": "[encoded data removed]",
      "text/plain": [
       "<Figure size 432x288 with 1 Axes>"
      ]
     },
     "metadata": {
      "needs_background": "light"
     },
     "output_type": "display_data"
    }
   ],
   "source": [
    "bar_chart(type_PID_lm,count_PID_lm,type_PID_lp,count_PID_lp,'PID-Attack Bar Chart')"
   ]
  },
  {
   "cell_type": "code",
   "execution_count": 39,
   "metadata": {},
   "outputs": [],
   "source": [
    "rows_ts_lm=df_lm.filter(col('attack')==1)\\\n",
    "    .groupBy('ts')\\\n",
    "    .agg(F.count('attack').alias('counts'))\\\n",
    "    .sort('counts', ascending=False).rdd.takeSample(False,10)\n",
    "type_ts_lm = [row.ts for row in rows_ts_lm]\n",
    "count_ts_lm = [row.counts for row in rows_ts_lm]"
   ]
  },
  {
   "cell_type": "code",
   "execution_count": 40,
   "metadata": {},
   "outputs": [],
   "source": [
    "rows_ts_lp=df_lm.filter(col('attack')==1)\\\n",
    "    .groupBy('ts')\\\n",
    "    .agg(F.count('attack').alias('counts'))\\\n",
    "    .sort('counts', ascending=False).rdd.takeSample(False,10)\n",
    "type_ts_lp = [row.ts for row in rows_ts_lp]\n",
    "count_ts_lp = [row.counts for row in rows_ts_lp]"
   ]
  },
  {
   "cell_type": "code",
   "execution_count": 41,
   "metadata": {},
   "outputs": [
    {
     "data": {
      "image/png": "[encoded data removed]",
      "text/plain": [
       "<Figure size 432x288 with 1 Axes>"
      ]
     },
     "metadata": {
      "needs_background": "light"
     },
     "output_type": "display_data"
    }
   ],
   "source": [
    "bar_chart(type_ts_lm,count_ts_lm,type_ts_lp,count_ts_lp,'ts-Attack Bar Chart')"
   ]
  },
  {
   "cell_type": "markdown",
   "metadata": {},
   "source": [
    "Comparing ts column and attack column, I found that in any time stamp servers can be attacked and servers can be attacked in one time stamp.\n",
    "Comparing PID column and attack column, some PIDs are attacked frequently.\n",
    "Comparing Type column and attack column, dos and ddos are the most two kinds of attack type.\n",
    "Comparing Linux Memory and Linux Process, Linux memory don't exist scanning attack and xss attack."
   ]
  },
  {
   "cell_type": "markdown",
   "metadata": {},
   "source": [
    "# 2. Feature extraction and ML training (55%)"
   ]
  },
  {
   "cell_type": "markdown",
   "metadata": {},
   "source": [
    "\n",
    "# 2.1 Preparing the training data and testing data (4%) \n",
    " \n",
    "1.\tRandomly split the dataset into 80% training data and 20% testing data for each use case \n"
   ]
  },
  {
   "cell_type": "code",
   "execution_count": 42,
   "metadata": {},
   "outputs": [],
   "source": [
    "train_lm, test_lm = df_lm.randomSplit([0.8, 0.2], seed=5202)\n",
    "train_lp, test_lp = df_lp.randomSplit([0.8, 0.2], seed=5202)"
   ]
  },
  {
   "cell_type": "markdown",
   "metadata": {},
   "source": [
    "2.\tWith the class imbalance observed from 1.3.1, for the binary classification use case 1 & 2, prepare rebalanced training data, with attack events and non-attack events being 1:2 ratio, while using 20%  attack events data from the training data from 2.1.1. \n",
    "Cache the rebalanced training data, and display the count of each event's data. \n",
    "\t○\tHint - you can use undersampling to get the rebalanced training data \n"
   ]
  },
  {
   "cell_type": "code",
   "execution_count": 43,
   "metadata": {},
   "outputs": [],
   "source": [
    "train_data_lm,drop_data_lm = train_lm.filter(col(\"attack\") == 1).randomSplit([0.2, 0.8], seed=5202)\n",
    "train_data_lp, drop_data_lp = train_lp.filter(col(\"attack\") == 1).randomSplit([0.2, 0.8], seed=5202)"
   ]
  },
  {
   "cell_type": "code",
   "execution_count": 44,
   "metadata": {},
   "outputs": [
    {
     "name": "stdout",
     "output_type": "stream",
     "text": [
      "+------+-----+\n",
      "|attack|Count|\n",
      "+------+-----+\n",
      "|     1|30995|\n",
      "|     0|62656|\n",
      "+------+-----+\n",
      "\n"
     ]
    }
   ],
   "source": [
    "attack_lm = train_data_lm.filter(col(\"attack\") == 1)\n",
    "nonattack_lm = df_lm.filter(col(\"attack\") == 0)\n",
    "ratio = int(nonattack_lm.count() / attack_lm.count())\n",
    "sampled_majority_df = nonattack_lm.sample(False, 1/(ratio/2))\n",
    "df_lm_rebalance= sampled_majority_df.unionAll(attack_lm)\n",
    "df_lm_rebalance.groupby(\"attack\").agg(F.count(\"attack\").alias(\"Count\")).show()"
   ]
  },
  {
   "cell_type": "code",
   "execution_count": 45,
   "metadata": {},
   "outputs": [
    {
     "name": "stdout",
     "output_type": "stream",
     "text": [
      "+------+-----+\n",
      "|attack|Count|\n",
      "+------+-----+\n",
      "|     1|46594|\n",
      "|     0|92793|\n",
      "+------+-----+\n",
      "\n"
     ]
    }
   ],
   "source": [
    "attack_lp = train_data_lp.filter(col(\"attack\") == 1)\n",
    "nonattack_lp = df_lp.filter(col(\"attack\") == 0)\n",
    "ratio = int(nonattack_lp.count() / attack_lp.count())\n",
    "sampled_majority_df = nonattack_lp.sample(False, 1/(ratio/2))\n",
    "df_lp_rebalance= sampled_majority_df.unionAll(attack_lp)\n",
    "df_lp_rebalance.groupby(\"attack\").agg(F.count(\"attack\").alias(\"Count\")).show()"
   ]
  },
  {
   "cell_type": "markdown",
   "metadata": {},
   "source": [
    "# 2.2 Preparing features, labels and models (16%) \n",
    " \n",
    "1.\tBased on data exploration from 1.3.3, which features would you select? Discuss the reason for selecting them and how you plan to further transform them . \n",
    "○\t400 words max for the discussion \n",
    "○\tHint - things to consider include whether to scale the numeric data, whether to choose one-hot encoding or string-indexing for a specific model \n"
   ]
  },
  {
   "cell_type": "markdown",
   "metadata": {},
   "source": [
    "In Linux process file,I choose 'ts', 'PID', 'TRUN', 'POLI', 'RTPR', 'Status', 'State', 'CPU' as features.\n",
    "Because Timestamp can record when server is attacked and PID can show which process is easy to be hacked.\n",
    "TRUN can show the situation of DDos attack.\n",
    "RTPR can show whether high priority process can be attack.\n",
    "Status can show  the attack activity is focus on old process or new process.\n",
    "CPU can show whether long time excuting attacking process block the system."
   ]
  },
  {
   "cell_type": "markdown",
   "metadata": {},
   "source": [
    "In Linux memory file,I choose'MINFLT','RSIZE', 'RGROW','ts','PID','MEM' as features.\n",
    "Timestamp and PID have same reason from Linux process.\n",
    "MINFLT can show some attack using error page to attack servers.\n",
    "RSIZE can show whether an attack uses larger memery to attack servers.\n",
    "RGROW can show  whether an attack uses applying more memory to attack servers.\n",
    "MEM can show whether an attack process get to much memory to block process."
   ]
  },
  {
   "cell_type": "markdown",
   "metadata": {},
   "source": [
    "2.\tCreate Transformers / Estimators for transforming / assembling the features you selected above in 2.2.1 \n",
    "\n",
    "\n",
    "○\t(Bonus Task 5%) Create a custom Transformer for the column “POLI” so that the types of policy, [“norm”, “btch”, “idle”, “fifo”, “rr”, “0”, “-”], can be mapped to the following numbers, [0, 1, 2, 3, 4, 5, 6]. \n",
    "\ti.\tHint - you can create a custom Transform class inheriting from the\n",
    "\tPySpark \tML \tTransformer, \tHasInputCol, \tHasOutputCol,\n",
    "DefaultParamsReadable, DefaultParamsWritable class, so that it can be included in the ML Pipeline in the next step. The class should allow users to specify the inputCol, outputCol, originalValues, and newValues parameters when initiating the object. \n"
   ]
  },
  {
   "cell_type": "code",
   "execution_count": 46,
   "metadata": {},
   "outputs": [],
   "source": [
    "from pyspark import keyword_only\n",
    "from pyspark.ml import Transformer\n",
    "from pyspark.ml.param.shared import HasInputCol, HasOutputCol\n",
    "from pyspark.ml.util import DefaultParamsReadable, DefaultParamsWritable  \n",
    "class replacePOLI(Transformer, HasInputCol, HasOutputCol,DefaultParamsReadable, DefaultParamsWritable):   \n",
    "    @keyword_only\n",
    "    def __init__(self, inputCol=None, outputCol=None):\n",
    "        super(replacePOLI, self).__init__()\n",
    "        kwargs = self._input_kwargs\n",
    "        self.setParams(**kwargs)\n",
    "           \n",
    "    @keyword_only\n",
    "    def setParams(self, inputCol=None, outputCol=None):\n",
    "        kwargs = self._input_kwargs\n",
    "        return self._set(**kwargs)\n",
    "    \n",
    "    def setInputCol(self, value): \n",
    "        return self._set(inputCol=value)\n",
    "\n",
    "    def setOutputCol(self, value):\n",
    "        return self._set(outputCol=value)\n",
    "\n",
    "    def _transform(self, df):\n",
    "        out_col = self.getOutputCol()\n",
    "        in_col = df[self.getInputCol()]\n",
    "        temp =df.withColumn(out_col,F.when(df['POLI'] == 'norm', F.lit(0))\\\n",
    "                 .when(df['POLI'] == 'btch',F.lit(1))\\\n",
    "                 .when(df['POLI'] == 'idle', F.lit(2))\\\n",
    "                 .when(df['POLI'] == 'fifo', F.lit(3))\\\n",
    "                 .when(df['POLI'] == 'rr', F.lit(4))\\\n",
    "                 .when(df['POLI'] == '0', F.lit(5))\\\n",
    "                 .when(df['POLI'] == '-', F.lit(6)))\n",
    "        return temp"
   ]
  },
  {
   "cell_type": "code",
   "execution_count": 47,
   "metadata": {},
   "outputs": [],
   "source": [
    "replacy_POLI = replacePOLI(inputCol='POLI',outputCol='re_POLI')"
   ]
  },
  {
   "cell_type": "code",
   "execution_count": 48,
   "metadata": {},
   "outputs": [],
   "source": [
    "from pyspark.ml.feature import StringIndexer\n",
    "inputCols_lp=['Status','State']\n",
    "outputCols_lp=[f'{x}_Index' for x in inputCols_lp ]\n",
    "stage_lp_1 = StringIndexer(inputCols=inputCols_lp, outputCols=outputCols_lp)\n",
    "\n",
    "from pyspark.ml.feature import OneHotEncoder\n",
    "inputCols_lp_OHE = [x for x in outputCols_lp]\n",
    "outputCols_lp_OHE = [f'{x}_vec' for x in inputCols_lp]\n",
    "stage_lp_2 = OneHotEncoder(inputCols=inputCols_lp_OHE, outputCols=outputCols_lp_OHE)\n",
    "\n",
    "from pyspark.ml.feature import VectorAssembler\n",
    "numeric_columns = ['ts','PID', 'TRUN', 'RTPR', 'CPU']\n",
    "inputCols_lp= numeric_columns + outputCols_lp_OHE\n",
    "inputCols_lp.append('re_POLI')\n",
    "stage_lp_3 =VectorAssembler(inputCols= inputCols_lp,outputCol=\"features\") "
   ]
  },
  {
   "cell_type": "code",
   "execution_count": 49,
   "metadata": {},
   "outputs": [],
   "source": [
    "inputCols_lm=['MINFLT','RSIZE', 'RGROW','ts','PID','MEM']\n",
    "stage_lm_3 =VectorAssembler(inputCols= inputCols_lm,outputCol=\"features\") "
   ]
  },
  {
   "cell_type": "code",
   "execution_count": null,
   "metadata": {},
   "outputs": [],
   "source": []
  },
  {
   "cell_type": "markdown",
   "metadata": {},
   "source": [
    "3.\tPrepare Estimators for Decision Tree and Gradient Boosted Tree model for each use case and include them into ML Pipelines for use case 1, 2 \n",
    "○\tA maximum of two pipelines can be created for each use case \n"
   ]
  },
  {
   "cell_type": "code",
   "execution_count": 50,
   "metadata": {},
   "outputs": [],
   "source": [
    "from pyspark.ml import Pipeline\n",
    "from pyspark.ml.classification import DecisionTreeClassifier\n",
    "stage_lm_4 = DecisionTreeClassifier(featuresCol = 'features', labelCol = 'attack', maxDepth = 3)\n",
    "pipeline_lm_dt =  Pipeline(stages=[stage_lm_3,stage_lm_4])"
   ]
  },
  {
   "cell_type": "code",
   "execution_count": 51,
   "metadata": {},
   "outputs": [],
   "source": [
    "from pyspark.ml.classification import GBTClassifier\n",
    "stage_lm_GBT = GBTClassifier(labelCol=\"attack\", featuresCol=\"features\", maxIter=10)\n",
    "pipeline_lm_GBT =  Pipeline(stages=[stage_lm_3,stage_lm_GBT])"
   ]
  },
  {
   "cell_type": "code",
   "execution_count": 52,
   "metadata": {},
   "outputs": [],
   "source": [
    "from pyspark.ml import Pipeline\n",
    "from pyspark.ml.classification import DecisionTreeClassifier\n",
    "stage_lp_4 = DecisionTreeClassifier(featuresCol = 'features', labelCol = 'attack', maxDepth = 3)\n",
    "pipeline_lp_dt =  Pipeline(stages=[replacy_POLI,stage_lp_1,stage_lp_2,stage_lp_3,stage_lp_4])"
   ]
  },
  {
   "cell_type": "code",
   "execution_count": 57,
   "metadata": {},
   "outputs": [],
   "source": [
    "from pyspark.ml.classification import GBTClassifier\n",
    "stage_lp_GBT = GBTClassifier(labelCol=\"attack\", featuresCol=\"features\", maxIter=10)\n",
    "pipeline_lp_GBT =  Pipeline(stages=[replacy_POLI,stage_lp_1,stage_lp_2,stage_lp_3,stage_lp_GBT])"
   ]
  },
  {
   "cell_type": "markdown",
   "metadata": {},
   "source": [
    "2.3 Training and evaluating models (35%) \n",
    " \n",
    "1.\tFor each use case, use the corresponding ML Pipeline from previous step to train the models on the rebalanced training data from 2.1.2  \n",
    "○\tHint - each model training might take from 1min to 40min, depending on the complexity of the pipeline model, the amount of training data and the VM computing power \n"
   ]
  },
  {
   "cell_type": "code",
   "execution_count": 58,
   "metadata": {},
   "outputs": [
    {
     "data": {
      "text/html": [
       "<div>\n",
       "<style scoped>\n",
       "    .dataframe tbody tr th:only-of-type {\n",
       "        vertical-align: middle;\n",
       "    }\n",
       "\n",
       "    .dataframe tbody tr th {\n",
       "        vertical-align: top;\n",
       "    }\n",
       "\n",
       "    .dataframe thead th {\n",
       "        text-align: right;\n",
       "    }\n",
       "</style>\n",
       "<table border=\"1\" class=\"dataframe\">\n",
       "  <thead>\n",
       "    <tr style=\"text-align: right;\">\n",
       "      <th></th>\n",
       "      <th>features</th>\n",
       "      <th>attack</th>\n",
       "      <th>probability</th>\n",
       "      <th>prediction</th>\n",
       "    </tr>\n",
       "  </thead>\n",
       "  <tbody>\n",
       "    <tr>\n",
       "      <th>0</th>\n",
       "      <td>(1554218925.0, 3197.0, 0.0, 0.0, 0.06, 0.0, 0....</td>\n",
       "      <td>0</td>\n",
       "      <td>[0.9932253313696613, 0.006774668630338734]</td>\n",
       "      <td>0.0</td>\n",
       "    </tr>\n",
       "    <tr>\n",
       "      <th>1</th>\n",
       "      <td>(1554220845.0, 2809.0, 0.0, 0.0, 0.0, 1.0, 0.0...</td>\n",
       "      <td>0</td>\n",
       "      <td>[0.9932253313696613, 0.006774668630338734]</td>\n",
       "      <td>0.0</td>\n",
       "    </tr>\n",
       "    <tr>\n",
       "      <th>2</th>\n",
       "      <td>(1554221355.0, 3775.0, 0.0, 0.0, 0.0, 0.0, 0.0...</td>\n",
       "      <td>0</td>\n",
       "      <td>[0.9932253313696613, 0.006774668630338734]</td>\n",
       "      <td>0.0</td>\n",
       "    </tr>\n",
       "    <tr>\n",
       "      <th>3</th>\n",
       "      <td>(1554221450.0, 3780.0, 0.0, 0.0, 0.0, 0.0, 0.0...</td>\n",
       "      <td>0</td>\n",
       "      <td>[0.9932253313696613, 0.006774668630338734]</td>\n",
       "      <td>0.0</td>\n",
       "    </tr>\n",
       "    <tr>\n",
       "      <th>4</th>\n",
       "      <td>(1554221720.0, 2498.0, 0.0, 0.0, 0.0, 1.0, 0.0...</td>\n",
       "      <td>0</td>\n",
       "      <td>[0.9932253313696613, 0.006774668630338734]</td>\n",
       "      <td>0.0</td>\n",
       "    </tr>\n",
       "  </tbody>\n",
       "</table>\n",
       "</div>"
      ],
      "text/plain": [
       "                                            features  attack  \\\n",
       "0  (1554218925.0, 3197.0, 0.0, 0.0, 0.06, 0.0, 0....       0   \n",
       "1  (1554220845.0, 2809.0, 0.0, 0.0, 0.0, 1.0, 0.0...       0   \n",
       "2  (1554221355.0, 3775.0, 0.0, 0.0, 0.0, 0.0, 0.0...       0   \n",
       "3  (1554221450.0, 3780.0, 0.0, 0.0, 0.0, 0.0, 0.0...       0   \n",
       "4  (1554221720.0, 2498.0, 0.0, 0.0, 0.0, 1.0, 0.0...       0   \n",
       "\n",
       "                                  probability  prediction  \n",
       "0  [0.9932253313696613, 0.006774668630338734]         0.0  \n",
       "1  [0.9932253313696613, 0.006774668630338734]         0.0  \n",
       "2  [0.9932253313696613, 0.006774668630338734]         0.0  \n",
       "3  [0.9932253313696613, 0.006774668630338734]         0.0  \n",
       "4  [0.9932253313696613, 0.006774668630338734]         0.0  "
      ]
     },
     "execution_count": 58,
     "metadata": {},
     "output_type": "execute_result"
    }
   ],
   "source": [
    "train_lp,test_lp = df_lp_rebalance.randomSplit([0.8,0.2],seed=5202)\n",
    "model_lp_dt = pipeline_lp_dt.fit(train_lp)\n",
    "prediction_lp_dt = model_lp_dt.transform(test_lp)\n",
    "prediction_lp_dt.select('features','attack','probability','prediction').toPandas().head()"
   ]
  },
  {
   "cell_type": "code",
   "execution_count": 59,
   "metadata": {},
   "outputs": [
    {
     "data": {
      "text/html": [
       "<div>\n",
       "<style scoped>\n",
       "    .dataframe tbody tr th:only-of-type {\n",
       "        vertical-align: middle;\n",
       "    }\n",
       "\n",
       "    .dataframe tbody tr th {\n",
       "        vertical-align: top;\n",
       "    }\n",
       "\n",
       "    .dataframe thead th {\n",
       "        text-align: right;\n",
       "    }\n",
       "</style>\n",
       "<table border=\"1\" class=\"dataframe\">\n",
       "  <thead>\n",
       "    <tr style=\"text-align: right;\">\n",
       "      <th></th>\n",
       "      <th>features</th>\n",
       "      <th>attack</th>\n",
       "      <th>probability</th>\n",
       "      <th>prediction</th>\n",
       "    </tr>\n",
       "  </thead>\n",
       "  <tbody>\n",
       "    <tr>\n",
       "      <th>0</th>\n",
       "      <td>(1554218925.0, 3197.0, 0.0, 0.0, 0.06, 0.0, 0....</td>\n",
       "      <td>0</td>\n",
       "      <td>[0.9341221756527844, 0.06587782434721556]</td>\n",
       "      <td>0.0</td>\n",
       "    </tr>\n",
       "    <tr>\n",
       "      <th>1</th>\n",
       "      <td>(1554220845.0, 2809.0, 0.0, 0.0, 0.0, 1.0, 0.0...</td>\n",
       "      <td>0</td>\n",
       "      <td>[0.9341221756527844, 0.06587782434721556]</td>\n",
       "      <td>0.0</td>\n",
       "    </tr>\n",
       "    <tr>\n",
       "      <th>2</th>\n",
       "      <td>(1554221355.0, 3775.0, 0.0, 0.0, 0.0, 0.0, 0.0...</td>\n",
       "      <td>0</td>\n",
       "      <td>[0.9341221756527844, 0.06587782434721556]</td>\n",
       "      <td>0.0</td>\n",
       "    </tr>\n",
       "    <tr>\n",
       "      <th>3</th>\n",
       "      <td>(1554221450.0, 3780.0, 0.0, 0.0, 0.0, 0.0, 0.0...</td>\n",
       "      <td>0</td>\n",
       "      <td>[0.9341221756527844, 0.06587782434721556]</td>\n",
       "      <td>0.0</td>\n",
       "    </tr>\n",
       "    <tr>\n",
       "      <th>4</th>\n",
       "      <td>(1554221720.0, 2498.0, 0.0, 0.0, 0.0, 1.0, 0.0...</td>\n",
       "      <td>0</td>\n",
       "      <td>[0.9341221756527844, 0.06587782434721556]</td>\n",
       "      <td>0.0</td>\n",
       "    </tr>\n",
       "  </tbody>\n",
       "</table>\n",
       "</div>"
      ],
      "text/plain": [
       "                                            features  attack  \\\n",
       "0  (1554218925.0, 3197.0, 0.0, 0.0, 0.06, 0.0, 0....       0   \n",
       "1  (1554220845.0, 2809.0, 0.0, 0.0, 0.0, 1.0, 0.0...       0   \n",
       "2  (1554221355.0, 3775.0, 0.0, 0.0, 0.0, 0.0, 0.0...       0   \n",
       "3  (1554221450.0, 3780.0, 0.0, 0.0, 0.0, 0.0, 0.0...       0   \n",
       "4  (1554221720.0, 2498.0, 0.0, 0.0, 0.0, 1.0, 0.0...       0   \n",
       "\n",
       "                                 probability  prediction  \n",
       "0  [0.9341221756527844, 0.06587782434721556]         0.0  \n",
       "1  [0.9341221756527844, 0.06587782434721556]         0.0  \n",
       "2  [0.9341221756527844, 0.06587782434721556]         0.0  \n",
       "3  [0.9341221756527844, 0.06587782434721556]         0.0  \n",
       "4  [0.9341221756527844, 0.06587782434721556]         0.0  "
      ]
     },
     "execution_count": 59,
     "metadata": {},
     "output_type": "execute_result"
    }
   ],
   "source": [
    "model_lp_GBT = pipeline_lp_GBT.fit(train_lp)\n",
    "prediction_lp_GBT = model_lp_GBT.transform(test_lp)\n",
    "prediction_lp_GBT.select('features','attack','probability','prediction').toPandas().head()"
   ]
  },
  {
   "cell_type": "code",
   "execution_count": 60,
   "metadata": {},
   "outputs": [
    {
     "data": {
      "text/html": [
       "<div>\n",
       "<style scoped>\n",
       "    .dataframe tbody tr th:only-of-type {\n",
       "        vertical-align: middle;\n",
       "    }\n",
       "\n",
       "    .dataframe tbody tr th {\n",
       "        vertical-align: top;\n",
       "    }\n",
       "\n",
       "    .dataframe thead th {\n",
       "        text-align: right;\n",
       "    }\n",
       "</style>\n",
       "<table border=\"1\" class=\"dataframe\">\n",
       "  <thead>\n",
       "    <tr style=\"text-align: right;\">\n",
       "      <th></th>\n",
       "      <th>features</th>\n",
       "      <th>attack</th>\n",
       "      <th>probability</th>\n",
       "      <th>prediction</th>\n",
       "    </tr>\n",
       "  </thead>\n",
       "  <tbody>\n",
       "    <tr>\n",
       "      <th>0</th>\n",
       "      <td>[174.0, 5428.0, 5428.0, 1554219150.0, 2009.0, ...</td>\n",
       "      <td>0</td>\n",
       "      <td>[0.962997134948769, 0.037002865051231]</td>\n",
       "      <td>0.0</td>\n",
       "    </tr>\n",
       "    <tr>\n",
       "      <th>1</th>\n",
       "      <td>[0.0, 5196.0, 0.0, 1554223095.0, 1339.0, 0.0]</td>\n",
       "      <td>0</td>\n",
       "      <td>[0.962997134948769, 0.037002865051231]</td>\n",
       "      <td>0.0</td>\n",
       "    </tr>\n",
       "    <tr>\n",
       "      <th>2</th>\n",
       "      <td>[0.0, 4392.0, 0.0, 1554223790.0, 1851.0, 0.0]</td>\n",
       "      <td>0</td>\n",
       "      <td>[0.962997134948769, 0.037002865051231]</td>\n",
       "      <td>0.0</td>\n",
       "    </tr>\n",
       "    <tr>\n",
       "      <th>3</th>\n",
       "      <td>[0.0, 99.8, 0.0, 1554224075.0, 3752.0, 0.03]</td>\n",
       "      <td>0</td>\n",
       "      <td>[0.962997134948769, 0.037002865051231]</td>\n",
       "      <td>0.0</td>\n",
       "    </tr>\n",
       "    <tr>\n",
       "      <th>4</th>\n",
       "      <td>[366.0, 0.0, 0.0, 1554224625.0, 3912.0, 0.0]</td>\n",
       "      <td>0</td>\n",
       "      <td>[0.962997134948769, 0.037002865051231]</td>\n",
       "      <td>0.0</td>\n",
       "    </tr>\n",
       "  </tbody>\n",
       "</table>\n",
       "</div>"
      ],
      "text/plain": [
       "                                            features  attack  \\\n",
       "0  [174.0, 5428.0, 5428.0, 1554219150.0, 2009.0, ...       0   \n",
       "1      [0.0, 5196.0, 0.0, 1554223095.0, 1339.0, 0.0]       0   \n",
       "2      [0.0, 4392.0, 0.0, 1554223790.0, 1851.0, 0.0]       0   \n",
       "3       [0.0, 99.8, 0.0, 1554224075.0, 3752.0, 0.03]       0   \n",
       "4       [366.0, 0.0, 0.0, 1554224625.0, 3912.0, 0.0]       0   \n",
       "\n",
       "                              probability  prediction  \n",
       "0  [0.962997134948769, 0.037002865051231]         0.0  \n",
       "1  [0.962997134948769, 0.037002865051231]         0.0  \n",
       "2  [0.962997134948769, 0.037002865051231]         0.0  \n",
       "3  [0.962997134948769, 0.037002865051231]         0.0  \n",
       "4  [0.962997134948769, 0.037002865051231]         0.0  "
      ]
     },
     "execution_count": 60,
     "metadata": {},
     "output_type": "execute_result"
    }
   ],
   "source": [
    "train_lm,test_lm = df_lm_rebalance.randomSplit([0.8,0.2],seed=5202)\n",
    "model_lm_dt = pipeline_lm_dt.fit(train_lm)\n",
    "prediction_lm_dt = model_lm_dt.transform(test_lm)\n",
    "prediction_lm_dt.select('features','attack','probability','prediction').toPandas().head()"
   ]
  },
  {
   "cell_type": "code",
   "execution_count": 61,
   "metadata": {},
   "outputs": [
    {
     "data": {
      "text/html": [
       "<div>\n",
       "<style scoped>\n",
       "    .dataframe tbody tr th:only-of-type {\n",
       "        vertical-align: middle;\n",
       "    }\n",
       "\n",
       "    .dataframe tbody tr th {\n",
       "        vertical-align: top;\n",
       "    }\n",
       "\n",
       "    .dataframe thead th {\n",
       "        text-align: right;\n",
       "    }\n",
       "</style>\n",
       "<table border=\"1\" class=\"dataframe\">\n",
       "  <thead>\n",
       "    <tr style=\"text-align: right;\">\n",
       "      <th></th>\n",
       "      <th>features</th>\n",
       "      <th>attack</th>\n",
       "      <th>probability</th>\n",
       "      <th>prediction</th>\n",
       "    </tr>\n",
       "  </thead>\n",
       "  <tbody>\n",
       "    <tr>\n",
       "      <th>0</th>\n",
       "      <td>[174.0, 5428.0, 5428.0, 1554219150.0, 2009.0, ...</td>\n",
       "      <td>0</td>\n",
       "      <td>[0.9341221756527827, 0.06587782434721734]</td>\n",
       "      <td>0.0</td>\n",
       "    </tr>\n",
       "    <tr>\n",
       "      <th>1</th>\n",
       "      <td>[0.0, 5196.0, 0.0, 1554223095.0, 1339.0, 0.0]</td>\n",
       "      <td>0</td>\n",
       "      <td>[0.9341221756527837, 0.06587782434721634]</td>\n",
       "      <td>0.0</td>\n",
       "    </tr>\n",
       "    <tr>\n",
       "      <th>2</th>\n",
       "      <td>[0.0, 4392.0, 0.0, 1554223790.0, 1851.0, 0.0]</td>\n",
       "      <td>0</td>\n",
       "      <td>[0.9341221756527837, 0.06587782434721634]</td>\n",
       "      <td>0.0</td>\n",
       "    </tr>\n",
       "    <tr>\n",
       "      <th>3</th>\n",
       "      <td>[0.0, 99.8, 0.0, 1554224075.0, 3752.0, 0.03]</td>\n",
       "      <td>0</td>\n",
       "      <td>[0.9341221756527834, 0.06587782434721656]</td>\n",
       "      <td>0.0</td>\n",
       "    </tr>\n",
       "    <tr>\n",
       "      <th>4</th>\n",
       "      <td>[366.0, 0.0, 0.0, 1554224625.0, 3912.0, 0.0]</td>\n",
       "      <td>0</td>\n",
       "      <td>[0.9341221756527834, 0.06587782434721656]</td>\n",
       "      <td>0.0</td>\n",
       "    </tr>\n",
       "  </tbody>\n",
       "</table>\n",
       "</div>"
      ],
      "text/plain": [
       "                                            features  attack  \\\n",
       "0  [174.0, 5428.0, 5428.0, 1554219150.0, 2009.0, ...       0   \n",
       "1      [0.0, 5196.0, 0.0, 1554223095.0, 1339.0, 0.0]       0   \n",
       "2      [0.0, 4392.0, 0.0, 1554223790.0, 1851.0, 0.0]       0   \n",
       "3       [0.0, 99.8, 0.0, 1554224075.0, 3752.0, 0.03]       0   \n",
       "4       [366.0, 0.0, 0.0, 1554224625.0, 3912.0, 0.0]       0   \n",
       "\n",
       "                                 probability  prediction  \n",
       "0  [0.9341221756527827, 0.06587782434721734]         0.0  \n",
       "1  [0.9341221756527837, 0.06587782434721634]         0.0  \n",
       "2  [0.9341221756527837, 0.06587782434721634]         0.0  \n",
       "3  [0.9341221756527834, 0.06587782434721656]         0.0  \n",
       "4  [0.9341221756527834, 0.06587782434721656]         0.0  "
      ]
     },
     "execution_count": 61,
     "metadata": {},
     "output_type": "execute_result"
    }
   ],
   "source": [
    "model_lm_GBT = pipeline_lm_GBT.fit(train_lm)\n",
    "prediction_lm_GBT = model_lm_GBT.transform(test_lm)\n",
    "prediction_lm_GBT.select('features','attack','probability','prediction').toPandas().head()\n"
   ]
  },
  {
   "cell_type": "markdown",
   "metadata": {},
   "source": [
    "2.\tFor each use case, test the models on the testing data from 2.1.1 and display the count of each combination of attack label and prediction label in formats as below.  \n",
    "  \n"
   ]
  },
  {
   "cell_type": "code",
   "execution_count": 62,
   "metadata": {},
   "outputs": [
    {
     "name": "stdout",
     "output_type": "stream",
     "text": [
      "+------+----------+-----+\n",
      "|attack|prediction|count|\n",
      "+------+----------+-----+\n",
      "|     1|       0.0|  282|\n",
      "|     0|       0.0|15455|\n",
      "|     1|       1.0| 8981|\n",
      "|     0|       1.0| 3140|\n",
      "+------+----------+-----+\n",
      "\n",
      "+------+----------+-----+\n",
      "|attack|prediction|count|\n",
      "+------+----------+-----+\n",
      "|     1|       0.0|  803|\n",
      "|     0|       0.0|17187|\n",
      "|     1|       1.0| 8460|\n",
      "|     0|       1.0| 1408|\n",
      "+------+----------+-----+\n",
      "\n"
     ]
    }
   ],
   "source": [
    "prediction_lp_dt.groupBy('attack', 'prediction').count().show()\n",
    "\n",
    "prediction_lp_GBT.groupBy('attack', 'prediction').count().show()"
   ]
  },
  {
   "cell_type": "code",
   "execution_count": 63,
   "metadata": {},
   "outputs": [
    {
     "name": "stdout",
     "output_type": "stream",
     "text": [
      "+------+----------+-----+\n",
      "|attack|prediction|count|\n",
      "+------+----------+-----+\n",
      "|     1|       0.0|  202|\n",
      "|     0|       0.0|10940|\n",
      "|     1|       1.0| 5986|\n",
      "|     0|       1.0| 1556|\n",
      "+------+----------+-----+\n",
      "\n",
      "+------+----------+-----+\n",
      "|attack|prediction|count|\n",
      "+------+----------+-----+\n",
      "|     1|       0.0|  505|\n",
      "|     0|       0.0|11578|\n",
      "|     1|       1.0| 5683|\n",
      "|     0|       1.0|  918|\n",
      "+------+----------+-----+\n",
      "\n"
     ]
    }
   ],
   "source": [
    "prediction_lm_dt.groupBy('attack', 'prediction').count().show()\n",
    "prediction_lm_GBT.groupBy('attack', 'prediction').count().show()"
   ]
  },
  {
   "cell_type": "markdown",
   "metadata": {},
   "source": [
    "3.\tCompute the AUC, accuracy, recall and precision for the attack label from each model testing result using pyspark MLlib / ML APIs. Discuss which metric is more proper for measuring the model performance on identifying attacks. "
   ]
  },
  {
   "cell_type": "code",
   "execution_count": 64,
   "metadata": {},
   "outputs": [
    {
     "name": "stdout",
     "output_type": "stream",
     "text": [
      "(0.8771627539665446, 0.7409454665456645, 0.9695562992551009, 0.8399738121960343)\n",
      "(0.9206332112858066, 0.8573165788406972, 0.9133110223469718, 0.8844284146150228)\n",
      "(0.9059087989723827, 0.7936886767435694, 0.9673561732385262, 0.871959213401311)\n",
      "(0.9238385784628559, 0.8609301620966521, 0.9183904330963154, 0.8887325044960513)\n"
     ]
    }
   ],
   "source": [
    "def compute_metrics(predictions):\n",
    "    TN = predictions.filter('prediction = 0 AND attack = 0').count()\n",
    "    TP = predictions.filter('prediction = 1 AND attack = 1').count()\n",
    "    FN = predictions.filter('prediction = 0 AND attack = 1').count()\n",
    "    FP = predictions.filter('prediction = 1 AND attack = 0').count()\n",
    "    accuracy = (TP+TN)/(TP+TN+FP+FN)\n",
    "    precision = TP/(TP+FP)\n",
    "    recall =  TP/(TP+FN)\n",
    "    f1 = 2/((1/recall)+(1/precision))\n",
    "    return accuracy,precision,recall,f1  \n",
    "print(compute_metrics(prediction_lp_dt))\n",
    "print(compute_metrics(prediction_lp_GBT))\n",
    "print(compute_metrics(prediction_lm_dt))\n",
    "print(compute_metrics(prediction_lm_GBT))"
   ]
  },
  {
   "cell_type": "code",
   "execution_count": 65,
   "metadata": {},
   "outputs": [
    {
     "name": "stdout",
     "output_type": "stream",
     "text": [
      "0.9793510349487535\n",
      "areaUnderROC\n"
     ]
    }
   ],
   "source": [
    "from pyspark.ml.evaluation import BinaryClassificationEvaluator\n",
    "evaluator_lp_GBT = BinaryClassificationEvaluator(labelCol=\"attack\",rawPredictionCol=\"rawPrediction\")\n",
    "auc_lp_GBT = evaluator_lp_GBT.evaluate(prediction_lp_GBT)\n",
    "print(auc_lp_GBT)\n",
    "print(evaluator_lp_GBT.getMetricName())"
   ]
  },
  {
   "cell_type": "code",
   "execution_count": 66,
   "metadata": {},
   "outputs": [
    {
     "name": "stdout",
     "output_type": "stream",
     "text": [
      "0.9118373001184908\n",
      "areaUnderROC\n"
     ]
    }
   ],
   "source": [
    "from pyspark.ml.evaluation import BinaryClassificationEvaluator\n",
    "evaluator_lp_dt = BinaryClassificationEvaluator(labelCol=\"attack\",rawPredictionCol=\"rawPrediction\")\n",
    "auc_lp_dt = evaluator_lp_dt.evaluate(prediction_lp_dt)\n",
    "print(auc_lp_dt)\n",
    "print(evaluator_lp_dt.getMetricName())"
   ]
  },
  {
   "cell_type": "code",
   "execution_count": 67,
   "metadata": {},
   "outputs": [
    {
     "name": "stdout",
     "output_type": "stream",
     "text": [
      "0.9293413970039903\n",
      "areaUnderROC\n"
     ]
    }
   ],
   "source": [
    "from pyspark.ml.evaluation import BinaryClassificationEvaluator\n",
    "evaluator_lm_dt = BinaryClassificationEvaluator(labelCol=\"attack\",rawPredictionCol=\"rawPrediction\")\n",
    "auc_lm_dt = evaluator_lm_dt.evaluate(prediction_lm_dt)\n",
    "print(auc_lm_dt)\n",
    "print(evaluator_lm_dt.getMetricName())"
   ]
  },
  {
   "cell_type": "code",
   "execution_count": 68,
   "metadata": {},
   "outputs": [
    {
     "name": "stdout",
     "output_type": "stream",
     "text": [
      "0.9821997531776425\n",
      "areaUnderROC\n"
     ]
    }
   ],
   "source": [
    "from pyspark.ml.evaluation import BinaryClassificationEvaluator\n",
    "evaluator_lm_GBT = BinaryClassificationEvaluator(labelCol=\"attack\",rawPredictionCol=\"rawPrediction\")\n",
    "auc_lm_GBT = evaluator_lm_GBT.evaluate(prediction_lm_GBT)\n",
    "print(auc_lm_GBT)\n",
    "print(evaluator_lm_GBT.getMetricName())"
   ]
  },
  {
   "cell_type": "markdown",
   "metadata": {},
   "source": [
    "Comparing two different models, in AUC aspect, Gradient Boosted Tree has higher score\n",
    "In accuracy and precision, Gradient Boosted Tree model has higher score but in  recall, when predicting acording Linux process file,Decision \n",
    "Tree model get higher score than Gradient Boosted Tree model.\n",
    "But when predicting acording Linux process file,Gradient Boosted Tree model get higher score again.\n"
   ]
  },
  {
   "cell_type": "markdown",
   "metadata": {},
   "source": [
    "4.\tDisplay the top-5 most important features in each model. Discuss which pipeline model is better, and whether the feature “ts” should be included in the model . And visualise the ROC curve for the better model you selected for each use case. \n",
    "○\t500 words max for the discussion \n"
   ]
  },
  {
   "cell_type": "code",
   "execution_count": 69,
   "metadata": {},
   "outputs": [
    {
     "data": {
      "text/plain": [
       "SparseVector(16, {0: 0.9993, 6: 0.0007})"
      ]
     },
     "execution_count": 69,
     "metadata": {},
     "output_type": "execute_result"
    }
   ],
   "source": [
    "model_lp_dt.stages[-1].featureImportances"
   ]
  },
  {
   "cell_type": "code",
   "execution_count": 70,
   "metadata": {},
   "outputs": [
    {
     "data": {
      "text/plain": [
       "SparseVector(16, {0: 0.9142, 1: 0.0333, 2: 0.0, 4: 0.0006, 5: 0.0263, 6: 0.004, 7: 0.0002, 8: 0.0001, 9: 0.0205, 10: 0.0008, 11: 0.0, 13: 0.0, 14: 0.0, 15: 0.0})"
      ]
     },
     "execution_count": 70,
     "metadata": {},
     "output_type": "execute_result"
    }
   ],
   "source": [
    "model_lp_GBT.stages[-1].featureImportances"
   ]
  },
  {
   "cell_type": "code",
   "execution_count": 71,
   "metadata": {},
   "outputs": [
    {
     "data": {
      "text/plain": [
       "SparseVector(6, {3: 1.0})"
      ]
     },
     "execution_count": 71,
     "metadata": {},
     "output_type": "execute_result"
    }
   ],
   "source": [
    "model_lm_dt.stages[-1].featureImportances"
   ]
  },
  {
   "cell_type": "code",
   "execution_count": 72,
   "metadata": {},
   "outputs": [
    {
     "data": {
      "text/plain": [
       "SparseVector(6, {0: 0.0831, 1: 0.026, 2: 0.0004, 3: 0.8467, 4: 0.0355, 5: 0.0084})"
      ]
     },
     "execution_count": 72,
     "metadata": {},
     "output_type": "execute_result"
    }
   ],
   "source": [
    "model_lm_GBT.stages[-1].featureImportances"
   ]
  },
  {
   "cell_type": "markdown",
   "metadata": {},
   "source": [
    "In decision tree, when using Linuxe process train model, 'ts' is very important feature, it almost decides whether severs are de attacked\n",
    "In Gradient Boosted Tree, when using Linuxe memory train model,  'ts' also is very important feature and another four important feature are 1,7,8,11 colums' feature"
   ]
  },
  {
   "cell_type": "code",
   "execution_count": 73,
   "metadata": {},
   "outputs": [],
   "source": [
    "import pyspark.sql.types as T\n",
    "import numpy as np\n",
    "\n",
    "threshold_list = np.linspace(0, 1, 20)\n",
    "\n",
    "to_array = F.udf(lambda v: v.toArray().tolist(), T.ArrayType(T.FloatType()))\n",
    "\n",
    "df_lp_GBT = prediction_lp_GBT.withColumn('probability', to_array('probability'))\n",
    "df_lm_GBT = prediction_lm_GBT.withColumn('probability', to_array('probability'))\n",
    "\n",
    "prob_df_lp_GBT = df_lp_GBT.select(df_lp_GBT.probability[0].alias('negative_prob'),\\\n",
    "                               df_lp_GBT.probability[1].alias('positive_prob'),'attack')\n",
    "prob_df_lm_GBT = df_lm_GBT.select(df_lm_GBT.probability[0].alias('negative_prob'),\\\n",
    "                               df_lm_GBT.probability[1].alias('positive_prob'),'attack')"
   ]
  },
  {
   "cell_type": "code",
   "execution_count": 74,
   "metadata": {},
   "outputs": [],
   "source": [
    "def get_tpr_fpr(prob_df):\n",
    "    tpr_list = []\n",
    "    fpr_list = []\n",
    "    for threshold in threshold_list:\n",
    "        prob_df1 = prob_df.withColumn('prediction',\\\n",
    "                                F.when(prob_df.positive_prob > threshold, 1).otherwise(0))\n",
    "        tn = prob_df1.filter('prediction = 0 AND attack = 0').count()\n",
    "        tp = prob_df1.filter('prediction = 1 AND attack = 1').count()\n",
    "        \n",
    "        fn = prob_df1.filter('prediction = 0 AND attack = 1').count()\n",
    "        \n",
    "        fp = prob_df1.filter('prediction = 1 AND attack = 0').count()\n",
    "        tpr = tp / (tp + fn)\n",
    "        fpr = fp / (fp + tn)\n",
    "        tpr_list.append(tpr)\n",
    "        fpr_list.append(fpr)\n",
    "    return tpr_list, fpr_list"
   ]
  },
  {
   "cell_type": "code",
   "execution_count": 75,
   "metadata": {},
   "outputs": [
    {
     "data": {
      "image/png": "[encoded data removed]",
      "text/plain": [
       "<Figure size 432x288 with 1 Axes>"
      ]
     },
     "metadata": {
      "needs_background": "light"
     },
     "output_type": "display_data"
    }
   ],
   "source": [
    "tpr_list, fpr_list = get_tpr_fpr(prob_df_lp_GBT)\n",
    "plt.plot(fpr_list,tpr_list)\n",
    "plt.ylabel('TPR')\n",
    "plt.xlabel('FPR')\n",
    "plt.title('ROC Curve')\n",
    "plt.show()"
   ]
  },
  {
   "cell_type": "code",
   "execution_count": 76,
   "metadata": {},
   "outputs": [
    {
     "data": {
      "image/png": "[encoded data removed]",
      "text/plain": [
       "<Figure size 432x288 with 1 Axes>"
      ]
     },
     "metadata": {
      "needs_background": "light"
     },
     "output_type": "display_data"
    }
   ],
   "source": [
    "tpr_list, fpr_list = get_tpr_fpr(prob_df_lm_GBT)\n",
    "plt.plot(fpr_list,tpr_list)\n",
    "plt.ylabel('TPR')\n",
    "plt.xlabel('FPR')\n",
    "plt.title('ROC Curve')\n",
    "plt.show()"
   ]
  },
  {
   "cell_type": "markdown",
   "metadata": {},
   "source": [
    "5.\tUsing the pipeline model you selected in the previous step, re-train the pipeline model using a bigger set of rebalanced training data, with attack events and non-attack events being 1:2 ratio, while using all attack events data from the full data for both use cases. Then persist the better models for each use case. \n",
    "○\tThe models would be deployed in Part B of the assignment 2.  \n"
   ]
  },
  {
   "cell_type": "code",
   "execution_count": 77,
   "metadata": {},
   "outputs": [
    {
     "name": "stdout",
     "output_type": "stream",
     "text": [
      "+------+------+\n",
      "|attack| Count|\n",
      "+------+------+\n",
      "|     1|192922|\n",
      "|     0|391228|\n",
      "+------+------+\n",
      "\n"
     ]
    }
   ],
   "source": [
    "attack_lm_all = df_lm.filter(col(\"attack\") == 1)\n",
    "nonattack_lm_all = df_lm.filter(col(\"attack\") == 0)\n",
    "ratio = int(nonattack_lm_all.count() / attack_lm_all.count())\n",
    "sm_df = nonattack_lm_all.sample(False, 1/(ratio/2))\n",
    "lm_rebalance= sm_df.unionAll(attack_lm_all)\n",
    "lm_rebalance.groupby(\"attack\").agg(F.count(\"attack\").alias(\"Count\")).show()"
   ]
  },
  {
   "cell_type": "code",
   "execution_count": 78,
   "metadata": {},
   "outputs": [
    {
     "name": "stdout",
     "output_type": "stream",
     "text": [
      "+------+------+\n",
      "|attack| Count|\n",
      "+------+------+\n",
      "|     1|291364|\n",
      "|     0|655304|\n",
      "+------+------+\n",
      "\n"
     ]
    }
   ],
   "source": [
    "attack_lp_all = df_lp.filter(col(\"attack\") == 1)\n",
    "nonattack_lp_all = df_lp.filter(col(\"attack\") == 0)\n",
    "ratio = int(nonattack_lp_all.count() / attack_lp_all.count())\n",
    "sm_df_lp = nonattack_lp_all.sample(False, 1/(ratio/2))\n",
    "lp_rebalance= sm_df_lp.unionAll(attack_lp_all)\n",
    "lp_rebalance.groupby(\"attack\").agg(F.count(\"attack\").alias(\"Count\")).show()"
   ]
  },
  {
   "cell_type": "code",
   "execution_count": 79,
   "metadata": {},
   "outputs": [
    {
     "data": {
      "text/html": [
       "<div>\n",
       "<style scoped>\n",
       "    .dataframe tbody tr th:only-of-type {\n",
       "        vertical-align: middle;\n",
       "    }\n",
       "\n",
       "    .dataframe tbody tr th {\n",
       "        vertical-align: top;\n",
       "    }\n",
       "\n",
       "    .dataframe thead th {\n",
       "        text-align: right;\n",
       "    }\n",
       "</style>\n",
       "<table border=\"1\" class=\"dataframe\">\n",
       "  <thead>\n",
       "    <tr style=\"text-align: right;\">\n",
       "      <th></th>\n",
       "      <th>features</th>\n",
       "      <th>attack</th>\n",
       "      <th>probability</th>\n",
       "      <th>prediction</th>\n",
       "    </tr>\n",
       "  </thead>\n",
       "  <tbody>\n",
       "    <tr>\n",
       "      <th>0</th>\n",
       "      <td>[5238.0, 21044.0, 21044.0, 1554218975.0, 2547....</td>\n",
       "      <td>0</td>\n",
       "      <td>[0.9341221756527852, 0.06587782434721479]</td>\n",
       "      <td>0.0</td>\n",
       "    </tr>\n",
       "    <tr>\n",
       "      <th>1</th>\n",
       "      <td>[411.0, 728.0, 728.0, 1554219530.0, 3452.0, 0.0]</td>\n",
       "      <td>0</td>\n",
       "      <td>[0.9341221756527842, 0.06587782434721579]</td>\n",
       "      <td>0.0</td>\n",
       "    </tr>\n",
       "    <tr>\n",
       "      <th>2</th>\n",
       "      <td>[0.0, 11344.0, 0.0, 1554219695.0, 2707.0, 0.0]</td>\n",
       "      <td>0</td>\n",
       "      <td>[0.9341221756527878, 0.06587782434721223]</td>\n",
       "      <td>0.0</td>\n",
       "    </tr>\n",
       "    <tr>\n",
       "      <th>3</th>\n",
       "      <td>[1.0, 3312.0, 0.0, 1554219755.0, 2753.0, 0.0]</td>\n",
       "      <td>0</td>\n",
       "      <td>[0.9341221756527878, 0.06587782434721223]</td>\n",
       "      <td>0.0</td>\n",
       "    </tr>\n",
       "    <tr>\n",
       "      <th>4</th>\n",
       "      <td>[0.0, 19576.0, 0.0, 1554219855.0, 3155.0, 0.01]</td>\n",
       "      <td>0</td>\n",
       "      <td>[0.9341221756527878, 0.06587782434721223]</td>\n",
       "      <td>0.0</td>\n",
       "    </tr>\n",
       "  </tbody>\n",
       "</table>\n",
       "</div>"
      ],
      "text/plain": [
       "                                            features  attack  \\\n",
       "0  [5238.0, 21044.0, 21044.0, 1554218975.0, 2547....       0   \n",
       "1   [411.0, 728.0, 728.0, 1554219530.0, 3452.0, 0.0]       0   \n",
       "2     [0.0, 11344.0, 0.0, 1554219695.0, 2707.0, 0.0]       0   \n",
       "3      [1.0, 3312.0, 0.0, 1554219755.0, 2753.0, 0.0]       0   \n",
       "4    [0.0, 19576.0, 0.0, 1554219855.0, 3155.0, 0.01]       0   \n",
       "\n",
       "                                 probability  prediction  \n",
       "0  [0.9341221756527852, 0.06587782434721479]         0.0  \n",
       "1  [0.9341221756527842, 0.06587782434721579]         0.0  \n",
       "2  [0.9341221756527878, 0.06587782434721223]         0.0  \n",
       "3  [0.9341221756527878, 0.06587782434721223]         0.0  \n",
       "4  [0.9341221756527878, 0.06587782434721223]         0.0  "
      ]
     },
     "execution_count": 79,
     "metadata": {},
     "output_type": "execute_result"
    }
   ],
   "source": [
    "train_lm_rebalance,test_lm_rebalance = lm_rebalance.randomSplit([0.8,0.2],seed=5202)\n",
    "re_lm_GBT = pipeline_lm_GBT.fit(train_lm_rebalance)\n",
    "prediction_lm_GBT_re = re_lm_GBT.transform(test_lm_rebalance)\n",
    "prediction_lm_GBT_re.select('features','attack','probability','prediction').toPandas().head()"
   ]
  },
  {
   "cell_type": "code",
   "execution_count": 80,
   "metadata": {},
   "outputs": [
    {
     "data": {
      "text/html": [
       "<div>\n",
       "<style scoped>\n",
       "    .dataframe tbody tr th:only-of-type {\n",
       "        vertical-align: middle;\n",
       "    }\n",
       "\n",
       "    .dataframe tbody tr th {\n",
       "        vertical-align: top;\n",
       "    }\n",
       "\n",
       "    .dataframe thead th {\n",
       "        text-align: right;\n",
       "    }\n",
       "</style>\n",
       "<table border=\"1\" class=\"dataframe\">\n",
       "  <thead>\n",
       "    <tr style=\"text-align: right;\">\n",
       "      <th></th>\n",
       "      <th>features</th>\n",
       "      <th>attack</th>\n",
       "      <th>probability</th>\n",
       "      <th>prediction</th>\n",
       "    </tr>\n",
       "  </thead>\n",
       "  <tbody>\n",
       "    <tr>\n",
       "      <th>0</th>\n",
       "      <td>(1554218930.0, 2774.0, 0.0, 0.0, 0.06, 0.0, 0....</td>\n",
       "      <td>0</td>\n",
       "      <td>[0.9341221756527904, 0.06587782434720957]</td>\n",
       "      <td>0.0</td>\n",
       "    </tr>\n",
       "    <tr>\n",
       "      <th>1</th>\n",
       "      <td>(1554219260.0, 2517.0, 0.0, 0.0, 0.0, 0.0, 0.0...</td>\n",
       "      <td>0</td>\n",
       "      <td>[0.9341221756527902, 0.06587782434720979]</td>\n",
       "      <td>0.0</td>\n",
       "    </tr>\n",
       "    <tr>\n",
       "      <th>2</th>\n",
       "      <td>(1554219350.0, 1063.0, 0.0, 0.0, 0.0, 0.0, 0.0...</td>\n",
       "      <td>0</td>\n",
       "      <td>[0.9341221756527858, 0.06587782434721423]</td>\n",
       "      <td>0.0</td>\n",
       "    </tr>\n",
       "    <tr>\n",
       "      <th>3</th>\n",
       "      <td>(1554219395.0, 2008.0, 0.0, 0.0, 0.0, 0.0, 0.0...</td>\n",
       "      <td>0</td>\n",
       "      <td>[0.9341221756527902, 0.06587782434720979]</td>\n",
       "      <td>0.0</td>\n",
       "    </tr>\n",
       "    <tr>\n",
       "      <th>4</th>\n",
       "      <td>(1554219435.0, 2683.0, 0.0, 0.0, 0.0, 0.0, 0.0...</td>\n",
       "      <td>0</td>\n",
       "      <td>[0.9341221756527902, 0.06587782434720979]</td>\n",
       "      <td>0.0</td>\n",
       "    </tr>\n",
       "  </tbody>\n",
       "</table>\n",
       "</div>"
      ],
      "text/plain": [
       "                                            features  attack  \\\n",
       "0  (1554218930.0, 2774.0, 0.0, 0.0, 0.06, 0.0, 0....       0   \n",
       "1  (1554219260.0, 2517.0, 0.0, 0.0, 0.0, 0.0, 0.0...       0   \n",
       "2  (1554219350.0, 1063.0, 0.0, 0.0, 0.0, 0.0, 0.0...       0   \n",
       "3  (1554219395.0, 2008.0, 0.0, 0.0, 0.0, 0.0, 0.0...       0   \n",
       "4  (1554219435.0, 2683.0, 0.0, 0.0, 0.0, 0.0, 0.0...       0   \n",
       "\n",
       "                                 probability  prediction  \n",
       "0  [0.9341221756527904, 0.06587782434720957]         0.0  \n",
       "1  [0.9341221756527902, 0.06587782434720979]         0.0  \n",
       "2  [0.9341221756527858, 0.06587782434721423]         0.0  \n",
       "3  [0.9341221756527902, 0.06587782434720979]         0.0  \n",
       "4  [0.9341221756527902, 0.06587782434720979]         0.0  "
      ]
     },
     "execution_count": 80,
     "metadata": {},
     "output_type": "execute_result"
    }
   ],
   "source": [
    "train_lp_rebalance,test_lp_rebalance = lp_rebalance.randomSplit([0.8,0.2],seed=5202)\n",
    "re_lp_GBT = pipeline_lp_GBT.fit(train_lp_rebalance)\n",
    "prediction_lp_GBT_re = re_lp_GBT.transform(test_lp_rebalance)\n",
    "prediction_lp_GBT_re.select('features','attack','probability','prediction').toPandas().head()"
   ]
  },
  {
   "cell_type": "markdown",
   "metadata": {},
   "source": [
    "# 3. Knowledge sharing (10%) \n",
    "In addition to building the machine learning models, the IT manager from StopHacking would like to learn more about the internals of Spark ML, and plan to replace existing scikit learn clustering logic by Spark KMeans clustering to cater large amounts of data. You are expected to combine the theory from the lecture and the observation from Spark UI to explain what happens when training the KMeans clustering model.  \n",
    " \n",
    "3.1 How many jobs are observed when training the KMeans clustering model following the code below? Provide a screenshot from Spark UI for running a simple KMeans model training. (0.5%) \n",
    "\t\n",
    "    \n",
    "    ●\tFor example, run the following code,  \n",
    " \n",
    "iris_df = spark.createDataFrame([ \n",
    "    (4.7, 3.2, 1.3, 0.2), \n",
    "    (4.9, 3.1, 1.5, 0.1), \n",
    "    (5.4, 3.9, 1.3, 0.4), \n",
    "    (5.0, 3.4, 1.6, 0.4), \n",
    "    (5.1, 3.8, 1.6, 0.2), \n",
    "    (4.9, 2.4, 3.3, 1.0), \n",
    "    (6.6, 2.9, 4.6, 1.3), \n",
    "    (5.6, 3.0, 4.5, 1.5), \n",
    "    (5.7, 2.6, 3.5, 1.0), \n",
    "    (5.8, 2.6, 4.0, 1.2), \n",
    "    (5.8, 2.8, 5.1, 2.4), \n",
    "    (6.2, 2.8, 4.8, 1.8), \n",
    "    (6.0, 3.0, 4.8, 1.8), \n",
    "    (6.7, 3.1, 5.6, 2.4), \n",
    "    (6.7, 3.0, 5.2, 2.3), \n",
    "    (6.2, 3.4, 5.4, 2.3)],  \n",
    "    ['sepal_length', 'sepal_width', 'petal_length', 'petal_width']) \n",
    " \n",
    "assembler = VectorAssembler(     inputCols=['sepal_length', 'sepal_width', 'petal_length', 'petal_width'],     outputCol='features') kmeans = KMeans(k=3).fit(assembler.transform(iris_df)) \n"
   ]
  },
  {
   "cell_type": "code",
   "execution_count": 81,
   "metadata": {},
   "outputs": [],
   "source": [
    "from pyspark.ml.clustering import KMeans\n",
    "from pyspark.ml.feature import VectorAssembler\n",
    "iris_df = spark.createDataFrame([ \n",
    "    (4.7, 3.2, 1.3, 0.2), \n",
    "    (4.9, 3.1, 1.5, 0.1), \n",
    "    (5.4, 3.9, 1.3, 0.4), \n",
    "    (5.0, 3.4, 1.6, 0.4), \n",
    "    (5.1, 3.8, 1.6, 0.2), \n",
    "    (4.9, 2.4, 3.3, 1.0), \n",
    "    (6.6, 2.9, 4.6, 1.3), \n",
    "    (5.6, 3.0, 4.5, 1.5), \n",
    "    (5.7, 2.6, 3.5, 1.0), \n",
    "    (5.8, 2.6, 4.0, 1.2), \n",
    "    (5.8, 2.8, 5.1, 2.4), \n",
    "    (6.2, 2.8, 4.8, 1.8), \n",
    "    (6.0, 3.0, 4.8, 1.8), \n",
    "    (6.7, 3.1, 5.6, 2.4), \n",
    "    (6.7, 3.0, 5.2, 2.3), \n",
    "    (6.2, 3.4, 5.4, 2.3)],  \n",
    "    ['sepal_length', 'sepal_width', 'petal_length', 'petal_width']) \n",
    " \n",
    "assembler = VectorAssembler(inputCols=['sepal_length', 'sepal_width', 'petal_length', 'petal_width'],outputCol='features')\n",
    "kmeans = KMeans(k=3).fit(assembler.transform(iris_df)) "
   ]
  },
  {
   "attachments": {
    "image.png": {
     "image/png": "[encoded data removed]"
    }
   },
   "cell_type": "markdown",
   "metadata": {},
   "source": [
    "![image.png](attachment:image.png)\n"
   ]
  },
  {
   "cell_type": "markdown",
   "metadata": {},
   "source": [
    "10 jobs"
   ]
  },
  {
   "cell_type": "markdown",
   "metadata": {},
   "source": [
    "3.2 Combining the KMeans algorithm from the lecture, explain what each job in Spark UI represents (9.5%) \n",
    "●\t300 words max for the discussion \n",
    "●\tHint \t- \tyou \tcan \talso \trefer \tto \tthe \tSpark \tsource \tcode \ton \tgithub https://github.com/apache/spark/blob/master/mllib/src/main/scala/org/apache/spark/ mllib/clustering/KMeans.scala \n",
    " \n"
   ]
  },
  {
   "cell_type": "markdown",
   "metadata": {},
   "source": [
    "Kmeans algorithm has 5 steps.\n",
    "1.Specifies k number of clusters, and guesses the k seed cluster centroid\n",
    "2.Iteratively looks at each data point and assigns it to the closest centroid\n",
    "3.Current clusters may receive or loose their members\n",
    "4.Each cluster must re-calculate the mean (centroid)\n",
    "5.The process is repeated until the clusters are stable (no change of members)\n",
    "The 518 and 519 job are choosing a sample at random  as cluster centers. These two jobs refer to the first step.\n",
    "The 520,521,522 and 523 job are calculating which is the closest cluster center according to a expression for each data and collect each cluster.\n",
    "The 524 job is re-calculate each cluster's centor.\n",
    "The 525 and 526 job are collecting each cluster as map(a kind of data type).\n",
    "The 527 job are creating a summary of Kmeans model.\n"
   ]
  },
  {
   "cell_type": "code",
   "execution_count": null,
   "metadata": {},
   "outputs": [],
   "source": []
  }
 ],
 "metadata": {
  "kernelspec": {
   "display_name": "Python 3",
   "language": "python",
   "name": "python3"
  },
  "language_info": {
   "codemirror_mode": {
    "name": "ipython",
    "version": 3
   },
   "file_extension": ".py",
   "mimetype": "text/x-python",
   "name": "python",
   "nbconvert_exporter": "python",
   "pygments_lexer": "ipython3",
   "version": "3.8.2"
  }
 },
 "nbformat": 4,
 "nbformat_minor": 4
}
