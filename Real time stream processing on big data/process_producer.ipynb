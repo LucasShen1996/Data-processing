{
 "cells": [
  {
   "cell_type": "code",
   "execution_count": null,
   "metadata": {},
   "outputs": [
    {
     "name": "stdout",
     "output_type": "stream",
     "text": [
      "Publishing records..\n"
     ]
    }
   ],
   "source": [
    "# import statements\n",
    "from time import sleep\n",
    "from json import dumps\n",
    "from kafka import KafkaProducer\n",
    "import random\n",
    "import datetime as dt\n",
    "import csv\n",
    "import time\n",
    "from datetime import datetime,timezone\n",
    "from pytz import timezone\n",
    "\n",
    "\n",
    "def read_csv(fileName):\n",
    "    data = []\n",
    "    f = open(fileName,'r')\n",
    "    spamreader = csv.DictReader(f)\n",
    "    for row in spamreader:\n",
    "        data.append(row)\n",
    "    return data\n",
    "\n",
    "def publish_message(producer_instance, topic_name, data):\n",
    "    try:\n",
    "        producer_instance.send(topic_name, data)\n",
    "#         print('Message published successfully. Data: ' + str(data))\n",
    "    except Exception as ex:\n",
    "        print('Exception in publishing message.')\n",
    "        print(str(ex))\n",
    "        \n",
    "def connect_kafka_producer():\n",
    "    _producer = None\n",
    "    try:\n",
    "        _producer = KafkaProducer(bootstrap_servers=['localhost:9092'],\n",
    "                                  value_serializer=lambda x: dumps(x).encode('ascii'),\n",
    "                                  api_version=(0, 10))\n",
    "    except Exception as ex:\n",
    "        print('Exception while connecting Kafka.')\n",
    "        print(str(ex))\n",
    "    finally:\n",
    "        return _producer\n",
    "    \n",
    "def divideData(data):\n",
    "    data_4 = []\n",
    "    data_5 = []\n",
    "    data_6 = []\n",
    "    data_7 = []\n",
    "    data_8 = []\n",
    "    for i in data:\n",
    "        if i['machine'] == '4':\n",
    "            data_4.append(i)\n",
    "        elif i['machine'] == '5':\n",
    "            data_5.append(i)\n",
    "        elif i['machine'] == '6':\n",
    "            data_6.append(i)\n",
    "        elif i['machine'] == '7':\n",
    "            data_7.append(i)\n",
    "        elif i['machine'] == '8':\n",
    "            data_8.append(i)        \n",
    "    return data_4,data_5,data_6,data_7,data_8\n",
    "\n",
    "if __name__ == '__main__':\n",
    "   \n",
    "    topic = 'Streaming_Linux_process'\n",
    "    cRows = read_csv('Streaming_Linux_process.csv') \n",
    "    print('Publishing records..')\n",
    "    producer = connect_kafka_producer() \n",
    "    machine_4,machine_5,machine_6,machine_7,machine_8 = divideData(cRows)\n",
    "    start_num_4,start_num_5,start_num_6,start_num_7,start_num_8 = 0,0,0,0,0\n",
    "    while True:\n",
    "        random_4,random_5,random_6,random_7,random_8 = random.randint(10,50),random.randint(10,50),random.randint(10,50),random.randint(10,50),random.randint(10,50)\n",
    "        data = []\n",
    "        if (start_num_4 + random_4) > len(machine_4):\n",
    "            start_num_4 = 0\n",
    "        if (start_num_5 + random_5) > len(machine_5):\n",
    "            start_num_5 = 0\n",
    "        if (start_num_6 + random_6) > len(machine_6):\n",
    "            start_num_6 = 0\n",
    "        if (start_num_7 + random_7) > len(machine_7):\n",
    "            start_num_7 = 0\n",
    "        if (start_num_8 + random_8) > len(machine_8):\n",
    "            start_num_8 = 0\n",
    "         \n",
    "        for a in range(start_num_4,start_num_4+random_4):\n",
    "            machine_4[a]['ts'] = int(datetime.now(timezone('UTC')).timestamp())\n",
    "            data.append(machine_4[a])\n",
    "        start_num_4 += random_4\n",
    "        for b in range(start_num_5,start_num_5+random_5):\n",
    "            machine_5[b]['ts'] = int(datetime.now(timezone('UTC')).timestamp())\n",
    "            data.append( machine_5[b])\n",
    "        start_num_5 += random_5\n",
    "        for c in range(start_num_6,start_num_6+random_6):\n",
    "            machine_6[c]['ts'] = int(datetime.now(timezone('UTC')).timestamp())\n",
    "            data.append(machine_6[c])\n",
    "        start_num_6 += random_6\n",
    "        for d in range(start_num_7,start_num_7+random_7):\n",
    "            machine_7[d]['ts'] = int(datetime.now(timezone('UTC')).timestamp())\n",
    "            data.append(machine_7[d])\n",
    "        start_num_7 += random_7\n",
    "        for e in range(start_num_8,start_num_8+random_8):\n",
    "            machine_8[e]['ts'] = int(datetime.now(timezone('UTC')).timestamp())\n",
    "            data.append(machine_8[e])\n",
    "        start_num_8 += random_8\n",
    "        publish_message(producer,topic,data)\n",
    "        sleep(5)\n",
    "        \n",
    "        \n",
    "            \n",
    "        \n",
    "        \n",
    "                \n"
   ]
  },
  {
   "cell_type": "code",
   "execution_count": null,
   "metadata": {},
   "outputs": [],
   "source": []
  },
  {
   "cell_type": "code",
   "execution_count": null,
   "metadata": {},
   "outputs": [],
   "source": []
  },
  {
   "cell_type": "markdown",
   "metadata": {},
   "source": [
    "\n"
   ]
  },
  {
   "cell_type": "markdown",
   "metadata": {},
   "source": [
    "\n"
   ]
  }
 ],
 "metadata": {
  "kernelspec": {
   "display_name": "Python 3",
   "language": "python",
   "name": "python3"
  },
  "language_info": {
   "codemirror_mode": {
    "name": "ipython",
    "version": 3
   },
   "file_extension": ".py",
   "mimetype": "text/x-python",
   "name": "python",
   "nbconvert_exporter": "python",
   "pygments_lexer": "ipython3",
   "version": "3.8.2"
  }
 },
 "nbformat": 4,
 "nbformat_minor": 4
}
