{
 "cells": [
  {
   "cell_type": "markdown",
   "metadata": {},
   "source": [
    "# 1. Working with RDD (25\t%) \n",
    "In this section, you will need to create RDDs from the given datasets, perform partitioning in these RDDs and use various RDD operations to answer the queries for crash analysis. \n"
   ]
  },
  {
   "cell_type": "markdown",
   "metadata": {},
   "source": [
    "# 1.1 Data Preparation and Loading (5 %) \n",
    "1.\tWrite the code to create a SparkContext object using SparkSession, which tells Spark how to access a cluster. To create a SparkSession you first need to build a SparkConf object that contains information about your application. Give an appropriate name for your application and run Spark locally with as many working processors as logical cores on your machine. \n",
    "2.\tImport all the “Units” csv files from 2015-2019 into a single RDD.  \n",
    "3.\tImport all the “Crashes” csv files from 2015-2019 into a single RDD. \n",
    "4.\tFor each Units and Crashes RDDs, remove the header rows and  display the total count and first 10 records. \n",
    " Hint :  You can use csv.reader to parse rows in RDDs. \n"
   ]
  },
  {
   "cell_type": "code",
   "execution_count": 1,
   "metadata": {},
   "outputs": [],
   "source": [
    "from pyspark import SparkConf\n",
    "from pyspark import SparkContext\n",
    "from pyspark.sql import SparkSession\n",
    "master = \"local[*]\"\n",
    "app_name = \"Assignment-1\"\n",
    "spark_conf = SparkConf().setMaster(master).setAppName(app_name)\n",
    "spark = SparkSession.builder.config(conf=spark_conf).getOrCreate()\n",
    "sc = spark.sparkContext\n",
    "sc.setLogLevel('ERROR')\n"
   ]
  },
  {
   "cell_type": "code",
   "execution_count": 2,
   "metadata": {},
   "outputs": [
    {
     "name": "stdout",
     "output_type": "stream",
     "text": [
      "153854\n"
     ]
    },
    {
     "data": {
      "text/plain": [
       "['2016-1-15/08/2019,01,0,SA,OMNIBUS,2011,North,Male,056,SA,HR,Full,Not Towing,Straight Ahead,010,5121,,',\n",
       " '2016-1-15/08/2019,02,1,,Pedestrian on Road,,East,Male,072,,,,,Walking on Road,,5084,,',\n",
       " '2016-2-15/08/2019,01,0,SA,Motor Cars - Sedan,2004,Unknown,Female,023,SA,C ,Full,Not Towing,Straight Ahead,001,5087,,',\n",
       " '2016-2-15/08/2019,02,0,SA,Station Wagon,2008,Unknown,Male,040,SA,C ,Full,Not Towing,Straight Ahead,001,5084,,',\n",
       " '2016-3-15/08/2019,01,0,SA,RIGID TRUCK LGE GE 4.5T,1990,South,Unknown,XXX,SA,MR,Provisional 2,Not Towing,Straight Ahead,001,5115,,',\n",
       " '2016-3-15/08/2019,02,0,SA,Panel Van,2013,South,Male,023,SA,C ,Full,Not Towing,Straight Ahead,001,5110,,',\n",
       " '2016-4-15/08/2019,01,0,SA,Station Wagon,2002,East,Female,033,SA,C ,Full,Not Towing,Straight Ahead,001,5169,,',\n",
       " '2016-4-15/08/2019,02,0,UNKNOWN,Other Defined Special Vehicle,XXXX,North,Unknown,XXX,UNKNOWN,XX,Unknown,Unknown,Reversing,001,XXXX,,',\n",
       " '2016-5-15/08/2019,01,1,SA,Motor Cars - Sedan,1997,South East,Male,042,SA,C ,Full,Not Towing,Right Turn,001,XXXX,,',\n",
       " '2016-5-15/08/2019,02,2,SA,Utility,2015,North East,Male,059,SA,MC,Full,Not Towing,Straight Ahead,002,5114,,']"
      ]
     },
     "execution_count": 2,
     "metadata": {},
     "output_type": "execute_result"
    }
   ],
   "source": [
    "temp_rdd_unit = sc.textFile('*Units.csv')\n",
    "header_units = temp_rdd_unit.first()\n",
    "rdd_units = temp_rdd_unit.filter(lambda x:x !=header_units)\n",
    "rdd_units = rdd_units.map(lambda x:x.replace('\\\"',''))\n",
    "\n",
    "print(rdd_units.count())\n",
    "rdd_units.take(10)"
   ]
  },
  {
   "cell_type": "code",
   "execution_count": 3,
   "metadata": {
    "scrolled": true
   },
   "outputs": [
    {
     "name": "stdout",
     "output_type": "stream",
     "text": [
      "72006\n"
     ]
    },
    {
     "data": {
      "text/plain": [
       "['2019-1-8/07/2020,2 Metropolitan,HAMPSTEAD GARDENS,5086,CITY OF PORT ADELAIDE ENFIELD,2,0,0,0,0,2019,June,Wednesday,11:15 am,060,Cross Road,Straight road,Level,Not Applicable,Sealed,Dry,Not Raining,Daylight,Right Angle,01,Driver Rider,1: PDO,Give Way Sign,,,1331810.03,1676603.26,13318101676603',\n",
       " '2019-2-8/07/2020,2 Metropolitan,DRY CREEK,5094,CITY OF SALISBURY,2,0,0,0,0,2019,January,Tuesday,12:49 am,090,Divided Road,Straight road,Level,Not Applicable,Sealed,Dry,Not Raining,Night,Rear End,02,Driver Rider,1: PDO,No Control,,,1328376.2,1682942.63,13283761682943',\n",
       " '2019-3-8/07/2020,2 Metropolitan,MILE END,5031,CITY OF WEST TORRENS,2,1,0,0,1,2019,January,Tuesday,12:00 am,060,Divided Road,Straight road,Level,Not Applicable,Sealed,Dry,Not Raining,Night,Hit Pedestrian,01,Driver Rider,2: MI,No Control,,,1325819.68,1670994.26,13258201670994',\n",
       " '2019-4-8/07/2020,2 Metropolitan,PARALOWIE,5108,CITY OF SALISBURY,2,1,0,1,0,2019,January,Tuesday,12:05 am,050,Not Divided,CURVED, VIEW OPEN,Level,Not Applicable,Sealed,Dry,Not Raining,Night,Hit Fixed Object,01,Driver Rider,3: SI,No Control,,,1328320.6,1690237.08,13283211690237',\n",
       " '2019-5-8/07/2020,2 Metropolitan,MOUNT BARKER,5251,DC MT.BARKER.                 ,2,0,0,0,0,2019,January,Tuesday,05:15 am,110,Divided Road,Straight road,Slope,Not Applicable,Sealed,Dry,Not Raining,Night,Hit Animal,02,Animal,1: PDO,No Control,,,1353279.99,1655645.15,13532801655645',\n",
       " '2019-6-8/07/2020,2 Metropolitan,TORRENSVILLE,5031,CITY OF WEST TORRENS,2,1,0,0,1,2019,January,Tuesday,07:00 am,050,Divided Road,Straight road,Level,Not Applicable,Sealed,Dry,Not Raining,Daylight,Hit Fixed Object,01,Driver Rider,2: MI,No Control,,,1324652.75,1672027.64,13246531672028',\n",
       " '2019-7-8/07/2020,2 Metropolitan,BEDFORD PARK,5042,CC MITCHAM.                   ,2,3,0,0,3,2019,January,Tuesday,09:40 am,050,Cross Road,Straight road,Level,Not Applicable,Sealed,Dry,Not Raining,Daylight,Right Angle,02,Driver Rider,2: MI,Traffic Signals,,,1325156.2,1660414.38,13251561660414',\n",
       " '2019-8-8/07/2020,3 Country,WYE,5291,DISTRICT COUNCIL OF GRANT,1,1,0,0,1,2019,January,Tuesday,12:15 pm,110,Not Divided,CURVED, VIEW OPEN,Level,Not Applicable,Sealed,Dry,Not Raining,Daylight,Roll Over,01,Driver Rider,2: MI,No Control,,,1517347.8,1321979.33,15173481321979',\n",
       " '2019-9-8/07/2020,3 Country,MOUNT GAMBIER,5290,CC MT.GAMBIER.                ,1,1,0,0,1,2019,January,Tuesday,11:45 am,050,T-Junction,Straight road,Bottom of Hill,Not Applicable,Sealed,Dry,Not Raining,Daylight,Roll Over,01,Driver Rider,2: MI,Stop Sign,,,1510220.05,1340472.35,15102201340472',\n",
       " '2019-10-8/07/2020,3 Country,OVERLAND CORNER,5330,THE BERRI BARMERA COUNCIL,1,1,0,1,0,2019,January,Tuesday,12:30 pm,080,Not Divided,CURVED, VIEW OPEN,Slope,Not Applicable,Sealed,Dry,Not Raining,Daylight,Roll Over,01,Driver Rider,3: SI,No Control,,,1492599.9,1749395.71,14926001749396']"
      ]
     },
     "execution_count": 3,
     "metadata": {},
     "output_type": "execute_result"
    }
   ],
   "source": [
    "temp_rdd_crash = sc.textFile('*Crash.csv')\n",
    "header_crash = temp_rdd_crash.first()\n",
    "rdd_crash = temp_rdd_crash.filter(lambda x:x !=header_crash)\n",
    "rdd_crash = rdd_crash.map(lambda x:x.replace('\\\"',''))\n",
    "print(rdd_crash.count())\n",
    "rdd_crash.take(10)"
   ]
  },
  {
   "cell_type": "markdown",
   "metadata": {},
   "source": [
    "# 1.2 Data Partitioning in RDD (10\t%) \n",
    "1.\tHow many partitions do the above RDDs have? How is the data in these RDDs partitioned by default, when we do not explicitly specify any partitioning strategy? "
   ]
  },
  {
   "cell_type": "markdown",
   "metadata": {},
   "source": [
    " each RDDS has 5 partitions.when we do not explicitly specify any partitioning strategy,it will partition according to the amount of data. If it has few data, it may have 1 partitioning."
   ]
  },
  {
   "cell_type": "code",
   "execution_count": 4,
   "metadata": {},
   "outputs": [
    {
     "name": "stdout",
     "output_type": "stream",
     "text": [
      "units' rdd participations: 5\n",
      "crash's rdd participations: 5\n"
     ]
    }
   ],
   "source": [
    "print('units\\' rdd participations:',rdd_units.getNumPartitions())\n",
    "print('crash\\'s rdd participations:',rdd_crash.getNumPartitions())"
   ]
  },
  {
   "cell_type": "markdown",
   "metadata": {},
   "source": [
    "2.\tIn the “Units” csv dataset, there is a column called Lic State which shows the state where the vehicle is registered. Assume we want to keep all the data related to SA in one partition and the rest of the data in another partition.  \n",
    "a.\tCreate a Key Value Pair RDD with Lic State as the key and rest of the other columns as value. \n"
   ]
  },
  {
   "cell_type": "code",
   "execution_count": 5,
   "metadata": {},
   "outputs": [
    {
     "data": {
      "text/plain": [
       "[('SA',\n",
       "  ['2016-1-15/08/2019',\n",
       "   '01',\n",
       "   '0',\n",
       "   'SA',\n",
       "   'OMNIBUS',\n",
       "   '2011',\n",
       "   'North',\n",
       "   'Male',\n",
       "   '056',\n",
       "   'HR',\n",
       "   'Full',\n",
       "   'Not Towing',\n",
       "   'Straight Ahead',\n",
       "   '010',\n",
       "   '5121',\n",
       "   '',\n",
       "   '']),\n",
       " ('',\n",
       "  ['2016-1-15/08/2019',\n",
       "   '02',\n",
       "   '1',\n",
       "   '',\n",
       "   'Pedestrian on Road',\n",
       "   '',\n",
       "   'East',\n",
       "   'Male',\n",
       "   '072',\n",
       "   '',\n",
       "   '',\n",
       "   '',\n",
       "   'Walking on Road',\n",
       "   '',\n",
       "   '5084',\n",
       "   '',\n",
       "   '']),\n",
       " ('SA',\n",
       "  ['2016-2-15/08/2019',\n",
       "   '01',\n",
       "   '0',\n",
       "   'SA',\n",
       "   'Motor Cars - Sedan',\n",
       "   '2004',\n",
       "   'Unknown',\n",
       "   'Female',\n",
       "   '023',\n",
       "   'C ',\n",
       "   'Full',\n",
       "   'Not Towing',\n",
       "   'Straight Ahead',\n",
       "   '001',\n",
       "   '5087',\n",
       "   '',\n",
       "   '']),\n",
       " ('SA',\n",
       "  ['2016-2-15/08/2019',\n",
       "   '02',\n",
       "   '0',\n",
       "   'SA',\n",
       "   'Station Wagon',\n",
       "   '2008',\n",
       "   'Unknown',\n",
       "   'Male',\n",
       "   '040',\n",
       "   'C ',\n",
       "   'Full',\n",
       "   'Not Towing',\n",
       "   'Straight Ahead',\n",
       "   '001',\n",
       "   '5084',\n",
       "   '',\n",
       "   '']),\n",
       " ('SA',\n",
       "  ['2016-3-15/08/2019',\n",
       "   '01',\n",
       "   '0',\n",
       "   'SA',\n",
       "   'RIGID TRUCK LGE GE 4.5T',\n",
       "   '1990',\n",
       "   'South',\n",
       "   'Unknown',\n",
       "   'XXX',\n",
       "   'MR',\n",
       "   'Provisional 2',\n",
       "   'Not Towing',\n",
       "   'Straight Ahead',\n",
       "   '001',\n",
       "   '5115',\n",
       "   '',\n",
       "   '']),\n",
       " ('SA',\n",
       "  ['2016-3-15/08/2019',\n",
       "   '02',\n",
       "   '0',\n",
       "   'SA',\n",
       "   'Panel Van',\n",
       "   '2013',\n",
       "   'South',\n",
       "   'Male',\n",
       "   '023',\n",
       "   'C ',\n",
       "   'Full',\n",
       "   'Not Towing',\n",
       "   'Straight Ahead',\n",
       "   '001',\n",
       "   '5110',\n",
       "   '',\n",
       "   '']),\n",
       " ('SA',\n",
       "  ['2016-4-15/08/2019',\n",
       "   '01',\n",
       "   '0',\n",
       "   'SA',\n",
       "   'Station Wagon',\n",
       "   '2002',\n",
       "   'East',\n",
       "   'Female',\n",
       "   '033',\n",
       "   'C ',\n",
       "   'Full',\n",
       "   'Not Towing',\n",
       "   'Straight Ahead',\n",
       "   '001',\n",
       "   '5169',\n",
       "   '',\n",
       "   '']),\n",
       " ('UNKNOWN',\n",
       "  ['2016-4-15/08/2019',\n",
       "   '02',\n",
       "   '0',\n",
       "   'UNKNOWN',\n",
       "   'Other Defined Special Vehicle',\n",
       "   'XXXX',\n",
       "   'North',\n",
       "   'Unknown',\n",
       "   'XXX',\n",
       "   'XX',\n",
       "   'Unknown',\n",
       "   'Unknown',\n",
       "   'Reversing',\n",
       "   '001',\n",
       "   'XXXX',\n",
       "   '',\n",
       "   '']),\n",
       " ('SA',\n",
       "  ['2016-5-15/08/2019',\n",
       "   '01',\n",
       "   '1',\n",
       "   'SA',\n",
       "   'Motor Cars - Sedan',\n",
       "   '1997',\n",
       "   'South East',\n",
       "   'Male',\n",
       "   '042',\n",
       "   'C ',\n",
       "   'Full',\n",
       "   'Not Towing',\n",
       "   'Right Turn',\n",
       "   '001',\n",
       "   'XXXX',\n",
       "   '',\n",
       "   '']),\n",
       " ('SA',\n",
       "  ['2016-5-15/08/2019',\n",
       "   '02',\n",
       "   '2',\n",
       "   'SA',\n",
       "   'Utility',\n",
       "   '2015',\n",
       "   'North East',\n",
       "   'Male',\n",
       "   '059',\n",
       "   'MC',\n",
       "   'Full',\n",
       "   'Not Towing',\n",
       "   'Straight Ahead',\n",
       "   '002',\n",
       "   '5114',\n",
       "   '',\n",
       "   ''])]"
      ]
     },
     "execution_count": 5,
     "metadata": {},
     "output_type": "execute_result"
    }
   ],
   "source": [
    "rdd_units_tuple = rdd_units.map(lambda x:x.split(',')).map(lambda x:(x[9],x[0:9]+x[10:]))\n",
    "rdd_units_tuple.take(10)"
   ]
  },
  {
   "cell_type": "markdown",
   "metadata": {},
   "source": [
    "b.\tWrite the code to implement this partitioning in RDD using appropriate partitioning functions. "
   ]
  },
  {
   "cell_type": "code",
   "execution_count": 8,
   "metadata": {},
   "outputs": [
    {
     "name": "stdout",
     "output_type": "stream",
     "text": [
      "####### NUMBER OF PARTITIONS: 2\n",
      "Partition 0: 109684 records\n",
      "Partition 1: 44170 records\n"
     ]
    }
   ],
   "source": [
    "def function(key):\n",
    "    if key == 'SA':\n",
    "        return 0\n",
    "    else:    \n",
    "        return 1\n",
    "\n",
    "partitioned_rdd = rdd_units_tuple.partitionBy(2, function)\n",
    "print_partitions(partitioned_rdd)\n"
   ]
  },
  {
   "cell_type": "markdown",
   "metadata": {},
   "source": [
    "\n",
    "c.\tWrite the code to print the number of records in each partition. What does it tell about the data skewness? "
   ]
  },
  {
   "cell_type": "code",
   "execution_count": 7,
   "metadata": {},
   "outputs": [],
   "source": [
    "from pyspark.rdd import RDD\n",
    "file = open('result1.txt','w')\n",
    "def print_partitions(data):\n",
    "    numPartitions = data.getNumPartitions()\n",
    "    partitions = data.glom().collect()   \n",
    "    file.writelines(f\"####### NUMBER OF PARTITIONS: {numPartitions}\"+'\\n')\n",
    "    print(f\"####### NUMBER OF PARTITIONS: {numPartitions}\")\n",
    "    for index, partition in enumerate(partitions):\n",
    "        if len(partition) > 0:\n",
    "            file.writelines(f\"Partition {index}: {len(partition)} records\"+'\\n')\n",
    "            file.writelines(str(partition)+'\\n') \n",
    "            print(f\"Partition {index}: {len(partition)} records\")\n",
    "    file.close()"
   ]
  },
  {
   "cell_type": "code",
   "execution_count": null,
   "metadata": {},
   "outputs": [],
   "source": [
    "high skewness"
   ]
  },
  {
   "cell_type": "markdown",
   "metadata": {},
   "source": [
    "# 1.3 Query/Analysis (10\t%) \n",
    "For the Units\t RDD, write relevant RDD operations to answer the following queries.\t "
   ]
  },
  {
   "cell_type": "markdown",
   "metadata": {},
   "source": [
    "1.\tFind the average age of male and female drivers separately."
   ]
  },
  {
   "cell_type": "code",
   "execution_count": 9,
   "metadata": {},
   "outputs": [
    {
     "data": {
      "text/plain": [
       "[('Male', 40.975960299920004), ('Female', 40.38729268862415)]"
      ]
     },
     "execution_count": 9,
     "metadata": {},
     "output_type": "execute_result"
    }
   ],
   "source": [
    "temp = rdd_units.map(lambda x:x.split(','))\\\n",
    "    .filter(lambda x:(x[7] == 'Male' or x[7] == 'Female')and x[8]!='XXX'and x[8]!='')\\\n",
    "    .map(lambda x:(x[7],int(x[8])))\n",
    "count = sc.broadcast(temp.countByKey())\n",
    "\n",
    "reausle = temp.reduceByKey(lambda x,y:(x+y))\\\n",
    "    .map(lambda x:(x[0],(x[1]/count.value[x[0]])))\n",
    "reausle.take(10)\n",
    "\n"
   ]
  },
  {
   "cell_type": "markdown",
   "metadata": {},
   "source": [
    "2.\tWhat is the oldest and the newest vehicle year involved in the accident? Display the Registration State, Year and Unit type of the vehicle. "
   ]
  },
  {
   "cell_type": "code",
   "execution_count": 10,
   "metadata": {},
   "outputs": [
    {
     "data": {
      "text/plain": [
       "[('VIC', 'Motor Cycle', '1900'),\n",
       " ('SA', 'Motor Cycle', '1900'),\n",
       " ('SA', 'Motor Cycle', '1900'),\n",
       " ('SA', 'Motor Cycle', '1900'),\n",
       " ('SA', 'Motor Cycle', '1900'),\n",
       " ('SA', 'Motor Cycle', '1900'),\n",
       " ('SA', 'Motor Cycle', '1900'),\n",
       " ('SA', 'RIGID TRUCK LGE GE 4.5T', '1900'),\n",
       " ('SA', 'Motor Cycle', '1900'),\n",
       " ('SA', 'Motor Cycle', '1900')]"
      ]
     },
     "execution_count": 10,
     "metadata": {},
     "output_type": "execute_result"
    }
   ],
   "source": [
    "temp = rdd_units.map(lambda x:x.split(',')).filter(lambda x:x[5]!='XXXX' and x[5]!='').min(lambda x:x[5])\n",
    "rdd_oldest = rdd_units.map(lambda x:x.split(',')).map(lambda field: (field[3],field[4],field[5])).filter(lambda x:x[2]==temp[5])\n",
    "rdd_oldest.take(10)"
   ]
  },
  {
   "cell_type": "code",
   "execution_count": 11,
   "metadata": {},
   "outputs": [
    {
     "data": {
      "text/plain": [
       "[('SA', 'Station Wagon', '2019'),\n",
       " ('SA', 'OMNIBUS', '2019'),\n",
       " ('SA', 'Motor Cars - Sedan', '2019'),\n",
       " ('SA', 'Station Wagon', '2019'),\n",
       " ('SA', 'SEMI TRAILER', '2019'),\n",
       " ('SA', 'Motor Cars - Sedan', '2019'),\n",
       " ('SA', 'Motor Cars - Sedan', '2019'),\n",
       " ('VIC', 'Station Wagon', '2019'),\n",
       " ('SA', 'Station Wagon', '2019'),\n",
       " ('SA', 'Utility', '2019')]"
      ]
     },
     "execution_count": 11,
     "metadata": {},
     "output_type": "execute_result"
    }
   ],
   "source": [
    "temp = rdd_units.map(lambda x:x.split(',')).filter(lambda x:x[5]!='XXXX' and x[5]!='').max(lambda x:x[5])\n",
    "rdd_newest = rdd_units.map(lambda x:x.split(',')).map(lambda field: (field[3],field[4],field[5])).filter(lambda x:x[2]==temp[5])\n",
    "rdd_newest.take(10)"
   ]
  },
  {
   "cell_type": "markdown",
   "metadata": {},
   "source": [
    "# 2. Working with DataFrames (35\t%) \n",
    "In this section, you will need to load the given datasets into PySpark DataFrames and use \n",
    "DataFrame functions to answer the queries. \n"
   ]
  },
  {
   "cell_type": "markdown",
   "metadata": {},
   "source": [
    "# 2.1 Data Preparation and Loading (5 %) \n",
    "1.\tLoad all units and crash data into two separate dataframes. \n",
    "2.\tDisplay the schema of the final two dataframes. \n"
   ]
  },
  {
   "cell_type": "code",
   "execution_count": 12,
   "metadata": {},
   "outputs": [
    {
     "name": "stdout",
     "output_type": "stream",
     "text": [
      "root\n",
      " |-- REPORT_ID: string (nullable = true)\n",
      " |-- Unit No: string (nullable = true)\n",
      " |-- No Of Cas: string (nullable = true)\n",
      " |-- Veh Reg State: string (nullable = true)\n",
      " |-- Unit Type: string (nullable = true)\n",
      " |-- Veh Year: string (nullable = true)\n",
      " |-- Direction Of Travel: string (nullable = true)\n",
      " |-- Sex: string (nullable = true)\n",
      " |-- Age: string (nullable = true)\n",
      " |-- Lic State: string (nullable = true)\n",
      " |-- Licence Class: string (nullable = true)\n",
      " |-- Licence Type: string (nullable = true)\n",
      " |-- Towing: string (nullable = true)\n",
      " |-- Unit Movement: string (nullable = true)\n",
      " |-- Number Occupants: string (nullable = true)\n",
      " |-- Postcode: string (nullable = true)\n",
      " |-- Rollover: string (nullable = true)\n",
      " |-- Fire: string (nullable = true)\n",
      "\n",
      "root\n",
      " |-- REPORT_ID: string (nullable = true)\n",
      " |-- Stats Area: string (nullable = true)\n",
      " |-- Suburb: string (nullable = true)\n",
      " |-- Postcode: string (nullable = true)\n",
      " |-- LGA Name: string (nullable = true)\n",
      " |-- Total Units: string (nullable = true)\n",
      " |-- Total Cas: string (nullable = true)\n",
      " |-- Total Fats: string (nullable = true)\n",
      " |-- Total SI: string (nullable = true)\n",
      " |-- Total MI: string (nullable = true)\n",
      " |-- Year: string (nullable = true)\n",
      " |-- Month: string (nullable = true)\n",
      " |-- Day: string (nullable = true)\n",
      " |-- Time: string (nullable = true)\n",
      " |-- Area Speed: string (nullable = true)\n",
      " |-- Position Type: string (nullable = true)\n",
      " |-- Horizontal Align: string (nullable = true)\n",
      " |-- Vertical Align: string (nullable = true)\n",
      " |-- Other Feat: string (nullable = true)\n",
      " |-- Road Surface: string (nullable = true)\n",
      " |-- Moisture Cond: string (nullable = true)\n",
      " |-- Weather Cond: string (nullable = true)\n",
      " |-- DayNight: string (nullable = true)\n",
      " |-- Crash Type: string (nullable = true)\n",
      " |-- Unit Resp: string (nullable = true)\n",
      " |-- Entity Code: string (nullable = true)\n",
      " |-- CSEF Severity: string (nullable = true)\n",
      " |-- Traffic Ctrls: string (nullable = true)\n",
      " |-- DUI Involved: string (nullable = true)\n",
      " |-- Drugs Involved: string (nullable = true)\n",
      " |-- ACCLOC_X: string (nullable = true)\n",
      " |-- ACCLOC_Y: string (nullable = true)\n",
      " |-- UNIQUE_LOC: string (nullable = true)\n",
      "\n"
     ]
    }
   ],
   "source": [
    "from pyspark.sql.functions import col\n",
    "import pyspark.sql.functions as F\n",
    "df_units = spark.read.format('csv')\\\n",
    "            .option('header',True).option('escape','\"')\\\n",
    "            .load('*Units.csv')\n",
    "df_crash = spark.read.format('csv')\\\n",
    "            .option('header',True).option('escape','\"')\\\n",
    "            .load('*Crash.csv')\n",
    "df_units.printSchema()\n",
    "df_crash.printSchema()"
   ]
  },
  {
   "cell_type": "markdown",
   "metadata": {},
   "source": [
    "# 2.2 Query/Analysis (15\t%) \n",
    "Implement the following queries using dataframes. You need to be able to perform operations like filtering, sorting, joining and group by using the functions provided by the DataFrame API.  \n",
    "1.\tFind all the crash events in Adelaide where the total number of casualties in the event is more than 3. "
   ]
  },
  {
   "cell_type": "code",
   "execution_count": 13,
   "metadata": {},
   "outputs": [
    {
     "name": "stdout",
     "output_type": "stream",
     "text": [
      "+--------------------+----------+--------+--------+----------------+-----------+---------+----------+--------+--------+----+--------+--------+--------+----------+-------------+----------------+--------------+--------------------+------------+-------------+------------+--------+--------------+---------+------------+-------------+---------------+------------+--------------+----------+----------+--------------+\n",
      "|           REPORT_ID|Stats Area|  Suburb|Postcode|        LGA Name|Total Units|Total Cas|Total Fats|Total SI|Total MI|Year|   Month|     Day|    Time|Area Speed|Position Type|Horizontal Align|Vertical Align|          Other Feat|Road Surface|Moisture Cond|Weather Cond|DayNight|    Crash Type|Unit Resp| Entity Code|CSEF Severity|  Traffic Ctrls|DUI Involved|Drugs Involved|  ACCLOC_X|  ACCLOC_Y|    UNIQUE_LOC|\n",
      "+--------------------+----------+--------+--------+----------------+-----------+---------+----------+--------+--------+----+--------+--------+--------+----------+-------------+----------------+--------------+--------------------+------------+-------------+------------+--------+--------------+---------+------------+-------------+---------------+------------+--------------+----------+----------+--------------+\n",
      "| 2018-601-17/01/2020|    1 City|ADELAIDE|    5000|CITY OF ADELAIDE|          8|        4|         0|       2|       2|2018| January|  Sunday|09:12 pm|       050|  Not Divided|   Straight road|         Level|      Not Applicable|      Sealed|          Dry| Not Raining|   Night|Hit Pedestrian|       01|Driver Rider|        3: SI|     No Control|        null|          null|1329806.36|1670224.76|13298061670225|\n",
      "|2017-1613-15/08/2019|    1 City|ADELAIDE|    5000|CITY OF ADELAIDE|          2|        4|         0|       0|       4|2017|February|Saturday|04:00 pm|       050|   Cross Road|   Straight road|         Level|      Not Applicable|      Sealed|          Dry| Not Raining|Daylight|    Right Turn|       01|Driver Rider|        2: MI|Traffic Signals|        null|          null|1327951.24|1669556.92|13279511669557|\n",
      "|2017-12182-15/08/...|    1 City|ADELAIDE|    5000|CITY OF ADELAIDE|          6|        5|         0|       1|       4|2017|December|Saturday|04:08 pm|       050|   Cross Road|   Straight road|         Level|      Not Applicable|      Sealed|          Wet| Not Raining|Daylight|Hit Pedestrian|       01|Driver Rider|        3: SI|Traffic Signals|        null|          null| 1329016.2|1670995.07|13290161670995|\n",
      "|2019-10404-8/07/2020|    1 City|ADELAIDE|    5000|CITY OF ADELAIDE|          4|        6|         0|       0|       6|2019| October|  Monday|08:20 am|       060| Divided Road|   Straight road|         Level|Driveway or Entrance|      Sealed|          Dry| Not Raining|Daylight|    Right Turn|       01|Driver Rider|        2: MI|     No Control|        null|          null|1327088.72|1670880.07|13270891670880|\n",
      "+--------------------+----------+--------+--------+----------------+-----------+---------+----------+--------+--------+----+--------+--------+--------+----------+-------------+----------------+--------------+--------------------+------------+-------------+------------+--------+--------------+---------+------------+-------------+---------------+------------+--------------+----------+----------+--------------+\n",
      "\n"
     ]
    }
   ],
   "source": [
    "df_crash.filter((col('Total Cas')>3) & (col('Suburb')=='ADELAIDE')).show()"
   ]
  },
  {
   "cell_type": "markdown",
   "metadata": {},
   "source": [
    "2.Display 10 crash events with highest casualties "
   ]
  },
  {
   "cell_type": "code",
   "execution_count": 14,
   "metadata": {},
   "outputs": [
    {
     "name": "stdout",
     "output_type": "stream",
     "text": [
      "+--------------------+--------------+---------------+--------+--------------------+-----------+---------+----------+--------+--------+----+--------+---------+--------+----------+-------------+--------------------+--------------+--------------+------------+-------------+------------+--------+-----------+---------+------------+-------------+---------------+------------+--------------+----------+----------+--------------+\n",
      "|           REPORT_ID|    Stats Area|         Suburb|Postcode|            LGA Name|Total Units|Total Cas|Total Fats|Total SI|Total MI|Year|   Month|      Day|    Time|Area Speed|Position Type|    Horizontal Align|Vertical Align|    Other Feat|Road Surface|Moisture Cond|Weather Cond|DayNight| Crash Type|Unit Resp| Entity Code|CSEF Severity|  Traffic Ctrls|DUI Involved|Drugs Involved|  ACCLOC_X|  ACCLOC_Y|    UNIQUE_LOC|\n",
      "+--------------------+--------------+---------------+--------+--------------------+-----------+---------+----------+--------+--------+----+--------+---------+--------+----------+-------------+--------------------+--------------+--------------+------------+-------------+------------+--------+-----------+---------+------------+-------------+---------------+------------+--------------+----------+----------+--------------+\n",
      "|2016-3035-15/08/2019|2 Metropolitan|        HACKHAM|    5163| CITY OF ONKAPARINGA|          3|        9|         3|       5|       1|2016| January| Saturday|11:50 am|       080|   T-Junction|       Straight road|         Level|Not Applicable|      Sealed|          Dry| Not Raining|Daylight| Right Turn|       01|Driver Rider|     4: Fatal|     No Control|        null|          null|1320361.49|1645195.63|13203611645196|\n",
      "|2016-6630-15/08/2019|2 Metropolitan|  KANGAROO FLAT|    5118|LIGHT REGIONAL CO...|          3|        9|         0|       2|       7|2016|   April|Wednesday|09:00 pm|       100|  Not Divided|CURVED, VIEW OBSC...|         Level|Not Applicable|      Sealed|          Dry| Not Raining|   Night|    Head On|       01|Driver Rider|        3: SI|     No Control|        null|          null|1339316.32|1710314.92|13393161710315|\n",
      "|2019-11734-8/07/2020|2 Metropolitan|          STURT|    5047|CC MARION.       ...|          2|        9|         0|       1|       8|2019|November|   Sunday|07:25 pm|       060|   T-Junction|       Straight road|         Level|Not Applicable|      Sealed|          Dry| Not Raining|Daylight| Right Turn|       02|Driver Rider|        3: SI|Traffic Signals|        null|          null|1324428.84|1659884.95|13244291659885|\n",
      "|2016-7073-15/08/2019|     3 Country|       MERRITON|    5523|PT.PIRIE CITY & D...|          2|        8|         4|       3|       1|2016|   April|   Sunday|12:35 pm|       110|  Not Divided|       Straight road|         Level|Not Applicable|      Sealed|          Dry| Not Raining|Daylight|    Head On|       01|Driver Rider|     4: Fatal|     No Control|        null|          null|1293759.89|1840109.96|12937601840110|\n",
      "|2016-14407-15/08/...|     3 Country|      STOCKWELL|    5355|THE BAROSSA COUNCIL.|          2|        8|         1|       6|       1|2016| October|   Sunday|03:46 pm|       100|  Not Divided|       Straight road| Crest of Hill|Not Applicable|    Unsealed|          Dry| Not Raining|Daylight|    Head On|       01|Driver Rider|     4: Fatal|     No Control|        null|          null|1373964.45|1723462.57|13739641723463|\n",
      "|2015-2823-21/08/2019|     3 Country|         HAWKER|    5434|THE FLINDERS RANG...|          1|        8|         0|       0|       8|2015|   March|   Monday|06:00 pm|       110|  Not Divided|       Straight road|         Level|Not Applicable|      Sealed|          Dry| Not Raining|Daylight|  Roll Over|       01|Driver Rider|        2: MI|     No Control|        null|          null|1315077.61|2022309.34|13150782022309|\n",
      "| 2018-222-17/01/2020|     3 Country|   MOUNT SCHANK|    5291|DISTRICT COUNCIL ...|          2|        7|         0|       4|       3|2018| January|  Tuesday|05:30 pm|       110|   Cross Road|   CURVED, VIEW OPEN|         Level|Not Applicable|      Sealed|          Dry| Not Raining|Daylight|Right Angle|       02|Driver Rider|        3: SI|  Give Way Sign|        null|          null|1504113.89|1329441.75|15041141329442|\n",
      "|2015-12591-21/08/...|     3 Country|        MALLALA|    5502|DC MALLALA.      ...|          2|        7|         0|       2|       5|2015| October|   Sunday|02:30 pm|       100|   Cross Road|       Straight road|         Level|Not Applicable|    Unsealed|          Dry| Not Raining|Daylight|Right Angle|       01|Driver Rider|        3: SI|  Give Way Sign|        null|          null|1325122.01|1724860.95|13251221724861|\n",
      "|2015-6965-21/08/2019|     3 Country|       BEAUFORT|    5550|YORKE PENINSULA C...|          3|        7|         3|       4|       0|2015|    June|   Monday|11:13 am|       100|   T-Junction|       Straight road|         Level|Not Applicable|      Sealed|          Dry| Not Raining|Daylight|    Head On|       09|       Other|     4: Fatal|     No Control|        null|          null|1287930.19|1761652.36|12879301761652|\n",
      "|2015-13713-21/08/...|2 Metropolitan|ELIZABETH GROVE|    5112|   CITY OF PLAYFORD.|          2|        7|         0|       0|       7|2015|November|   Friday|03:42 pm|       080|   T-Junction|       Straight road|         Level|Not Applicable|      Sealed|          Dry| Not Raining|Daylight|   Rear End|       01|Driver Rider|        2: MI|     No Control|        null|          null|1336118.68|1691385.65|13361191691386|\n",
      "+--------------------+--------------+---------------+--------+--------------------+-----------+---------+----------+--------+--------+----+--------+---------+--------+----------+-------------+--------------------+--------------+--------------+------------+-------------+------------+--------+-----------+---------+------------+-------------+---------------+------------+--------------+----------+----------+--------------+\n",
      "only showing top 10 rows\n",
      "\n"
     ]
    }
   ],
   "source": [
    "df_crash.sort('Total Cas',ascending=False).show(10)"
   ]
  },
  {
   "cell_type": "markdown",
   "metadata": {},
   "source": [
    "3.Find the total number of fatalities for each crash type."
   ]
  },
  {
   "cell_type": "code",
   "execution_count": 15,
   "metadata": {},
   "outputs": [
    {
     "name": "stdout",
     "output_type": "stream",
     "text": [
      "+--------------------+------+\n",
      "|          Crash Type| Total|\n",
      "+--------------------+------+\n",
      "|           Roll Over|2279.0|\n",
      "|  Hit Object on Road|  85.0|\n",
      "|      Hit Pedestrian|1517.0|\n",
      "|    Hit Fixed Object|4502.0|\n",
      "|               Other| 154.0|\n",
      "|          Side Swipe|1992.0|\n",
      "|             Head On|1224.0|\n",
      "|  Hit Parked Vehicle|1133.0|\n",
      "|          Right Turn|3120.0|\n",
      "|            Rear End|8605.0|\n",
      "|          Hit Animal| 207.0|\n",
      "|Left Road - Out o...| 244.0|\n",
      "|         Right Angle|6555.0|\n",
      "+--------------------+------+\n",
      "\n"
     ]
    }
   ],
   "source": [
    "df_crash.groupby('Crash Type')\\\n",
    "        .agg(F.sum('Total Cas').alias('Total')).show()"
   ]
  },
  {
   "cell_type": "markdown",
   "metadata": {},
   "source": [
    "4.Find the total number of casualties for each suburb when the vehicle was driven by an unlicensed driver. You are required to display the name of the suburb and the total number of casualties."
   ]
  },
  {
   "cell_type": "code",
   "execution_count": 16,
   "metadata": {},
   "outputs": [
    {
     "name": "stdout",
     "output_type": "stream",
     "text": [
      "+---------------+-----+\n",
      "|         Suburb|total|\n",
      "+---------------+-----+\n",
      "|       ADELAIDE| 19.0|\n",
      "|      SALISBURY| 18.0|\n",
      "|      DRY CREEK| 18.0|\n",
      "| SALISBURY EAST| 16.0|\n",
      "|       PROSPECT| 14.0|\n",
      "| NORTH ADELAIDE| 13.0|\n",
      "|   ANDREWS FARM| 12.0|\n",
      "|        ENFIELD| 12.0|\n",
      "|SALISBURY DOWNS| 11.0|\n",
      "|   BEDFORD PARK| 11.0|\n",
      "+---------------+-----+\n",
      "only showing top 10 rows\n",
      "\n"
     ]
    }
   ],
   "source": [
    "df_crash_unit = df_crash.join(df_units,df_crash.REPORT_ID == df_units.REPORT_ID,how='inner')\n",
    "\n",
    "df_suburb_total = df_crash_unit.filter(col('Licence Type')=='Unlicenced')\\\n",
    "    .groupBy('Suburb')\\\n",
    "    .agg(F.sum('Total Cas').alias('total'))\\\n",
    "    .sort('total',ascending=False)\n",
    "df_suburb_total.show(10)"
   ]
  },
  {
   "cell_type": "markdown",
   "metadata": {},
   "source": [
    "# 2.3 Severity Analysis (15%) \n",
    "In this section, we want to analyze whether severity of accidents is higher when the driver is on drugs or alcohol compared to when the driver is normal. The severity of the crash is given by the column “CSEF Severity”, the three levels of severity is given below (also included in the Metadata file). Similarly the columns “DUI Involved” and “Drugs Involved” tell whether the driver has been detected with blood alcohol and drugs respectively.\n",
    "  \t \n",
    "Using the DataFrame for crash events, implement the following queries: "
   ]
  },
  {
   "cell_type": "markdown",
   "metadata": {},
   "source": [
    "1.\tFind the total number of crash events for each severity level. Which severity level is the most common? "
   ]
  },
  {
   "cell_type": "code",
   "execution_count": 123,
   "metadata": {},
   "outputs": [
    {
     "name": "stdout",
     "output_type": "stream",
     "text": [
      "+-------------+-----+\n",
      "|CSEF Severity|Count|\n",
      "+-------------+-----+\n",
      "|       1: PDO|46696|\n",
      "|        2: MI|21881|\n",
      "|        3: SI| 2978|\n",
      "|     4: Fatal|  451|\n",
      "+-------------+-----+\n",
      "\n"
     ]
    }
   ],
   "source": [
    "df_severity = df_crash.groupBy('CSEF Severity')\\\n",
    "    .agg(F.count('REPORT_ID').alias('Count'))\\\n",
    "    .orderBy('CSEF Severity',ascending=True)\n",
    "df_severity.show(10)"
   ]
  },
  {
   "cell_type": "markdown",
   "metadata": {},
   "source": [
    "2.\tCompute the total number of crash events for each severity level and the percentage for the four different scenarios.\n",
    "A sample output for each of these scenarios is given below. \n"
   ]
  },
  {
   "cell_type": "markdown",
   "metadata": {},
   "source": [
    "a.\tWhen the driver is tested positive on drugs."
   ]
  },
  {
   "cell_type": "code",
   "execution_count": 124,
   "metadata": {},
   "outputs": [
    {
     "name": "stdout",
     "output_type": "stream",
     "text": [
      "+-------------+-----+----------+\n",
      "|CSEF Severity|Count|Percentage|\n",
      "+-------------+-----+----------+\n",
      "|       1: PDO|  152|  0.003255|\n",
      "|        2: MI|  660|  0.030163|\n",
      "|        3: SI|  212|  0.071189|\n",
      "|     4: Fatal|   55|  0.121951|\n",
      "+-------------+-----+----------+\n",
      "\n"
     ]
    }
   ],
   "source": [
    "total_drugs = df_crash.filter((col('Drugs Involved')=='Y') & (col('DUI Involved').isNull()))\\\n",
    "    .groupBy('CSEF Severity')\\\n",
    "    .agg(F.count('REPORT_ID').alias('Count'))\n",
    "df_drgus_percentage = total_drugs.join(df_severity,'CSEF Severity',how='inner')\\\n",
    "    .withColumn('Percentage',F.round(total_drugs.Count/df_severity.Count,6))\\\n",
    "    .select('CSEF Severity',total_drugs.Count,'Percentage')\\\n",
    "    .orderBy('CSEF Severity',ascending=True)\n",
    "df_drgus_percentage.show()"
   ]
  },
  {
   "cell_type": "markdown",
   "metadata": {},
   "source": [
    "b.\tWhen the driver is tested positive for blood alcohol concentration. "
   ]
  },
  {
   "cell_type": "code",
   "execution_count": 125,
   "metadata": {},
   "outputs": [
    {
     "name": "stdout",
     "output_type": "stream",
     "text": [
      "+-------------+-----+----------+\n",
      "|CSEF Severity|Count|Percentage|\n",
      "+-------------+-----+----------+\n",
      "|       1: PDO| 1149|  0.024606|\n",
      "|        2: MI|  648|  0.029615|\n",
      "|        3: SI|  224|  0.075218|\n",
      "|     4: Fatal|   52|  0.115299|\n",
      "+-------------+-----+----------+\n",
      "\n"
     ]
    }
   ],
   "source": [
    "total_alcohol = df_crash.filter((col('DUI Involved')=='Y')&(col('Drugs Involved').isNull()))\\\n",
    "    .groupBy('CSEF Severity')\\\n",
    "    .agg(F.count('REPORT_ID').alias('Count'))\n",
    "df_alcohol_percentage = total_alcohol.join(df_severity,'CSEF Severity',how='inner')\\\n",
    "    .withColumn('Percentage',F.round(total_alcohol.Count/df_severity.Count,6))\\\n",
    "    .select('CSEF Severity',total_alcohol.Count,'Percentage')\\\n",
    "    .orderBy('CSEF Severity',ascending=True)\n",
    "df_alcohol_percentage.show()"
   ]
  },
  {
   "cell_type": "markdown",
   "metadata": {},
   "source": [
    "c.\tWhen the driver is tested positive for both drugs and blood alcohol "
   ]
  },
  {
   "cell_type": "code",
   "execution_count": 129,
   "metadata": {},
   "outputs": [
    {
     "name": "stdout",
     "output_type": "stream",
     "text": [
      "+-------------+-----+----------+\n",
      "|CSEF Severity|Count|Percentage|\n",
      "+-------------+-----+----------+\n",
      "|       1: PDO|   24|  0.000514|\n",
      "|        2: MI|   89|  0.004067|\n",
      "|        3: SI|   35|  0.011753|\n",
      "|     4: Fatal|   27|  0.059867|\n",
      "+-------------+-----+----------+\n",
      "\n"
     ]
    }
   ],
   "source": [
    "from pyspark.sql.functions import format_string\n",
    "total_drugs_alcohol = df_crash.filter((col('DUI Involved')=='Y') & (col('Drugs Involved')=='Y'))\\\n",
    "    .groupBy('CSEF Severity')\\\n",
    "    .agg(F.count('REPORT_ID').alias('Count'))\n",
    "df_drgus_alcohol_percentage = total_drugs_alcohol.join(df_severity,'CSEF Severity',how='inner')\\\n",
    "    .withColumn('Percentage',total_drugs_alcohol.Count/df_severity.Count)\\\n",
    "    .select('CSEF Severity',total_drugs_alcohol.Count,format_string(\"%.6f\", col('Percentage').cast(\"float\")).alias('Percentage'))\\\n",
    "    .orderBy('CSEF Severity',ascending=True)\n",
    "df_drgus_alcohol_percentage.show()"
   ]
  },
  {
   "cell_type": "markdown",
   "metadata": {},
   "source": [
    "d.\tWhen the driver is tested negative for both (no alcohol and no drugs). \n",
    "Compare the results in these 4 scenarios. Briefly explain the observation from this \n",
    "analysis."
   ]
  },
  {
   "cell_type": "code",
   "execution_count": 130,
   "metadata": {},
   "outputs": [
    {
     "name": "stdout",
     "output_type": "stream",
     "text": [
      "+-------------+-----+----------+\n",
      "|CSEF Severity|Count|Percentage|\n",
      "+-------------+-----+----------+\n",
      "|       1: PDO|45371|  0.971625|\n",
      "|        2: MI|20484|  0.936155|\n",
      "|        3: SI| 2507|   0.84184|\n",
      "|     4: Fatal|  317|  0.702882|\n",
      "+-------------+-----+----------+\n",
      "\n"
     ]
    }
   ],
   "source": [
    "total_drugs_alcohol = df_crash.filter((col('DUI Involved').isNull()) & (col('Drugs Involved').isNull()))\\\n",
    "    .groupBy('CSEF Severity')\\\n",
    "    .agg(F.count('REPORT_ID').alias('Count'))\n",
    "df_none_drgus_alcohol_percentage = total_drugs_alcohol.join(df_severity,'CSEF Severity',how='inner')\\\n",
    "    .withColumn('Percentage',F.round(total_drugs_alcohol.Count/df_severity.Count,6))\\\n",
    "    .select('CSEF Severity',total_drugs_alcohol.Count,'Percentage')\\\n",
    "    .orderBy('CSEF Severity',ascending=True)\n",
    "df_none_drgus_alcohol_percentage.show()"
   ]
  },
  {
   "cell_type": "code",
   "execution_count": 161,
   "metadata": {},
   "outputs": [
    {
     "data": {
      "text/html": [
       "<div>\n",
       "<style scoped>\n",
       "    .dataframe tbody tr th:only-of-type {\n",
       "        vertical-align: middle;\n",
       "    }\n",
       "\n",
       "    .dataframe tbody tr th {\n",
       "        vertical-align: top;\n",
       "    }\n",
       "\n",
       "    .dataframe thead th {\n",
       "        text-align: right;\n",
       "    }\n",
       "</style>\n",
       "<table border=\"1\" class=\"dataframe\">\n",
       "  <thead>\n",
       "    <tr style=\"text-align: right;\">\n",
       "      <th></th>\n",
       "      <th>CSEF Severity</th>\n",
       "      <th>On Drug</th>\n",
       "      <th>On Alc</th>\n",
       "      <th>On both</th>\n",
       "      <th>On None</th>\n",
       "    </tr>\n",
       "  </thead>\n",
       "  <tbody>\n",
       "    <tr>\n",
       "      <th>0</th>\n",
       "      <td>1: PDO</td>\n",
       "      <td>152</td>\n",
       "      <td>1149</td>\n",
       "      <td>24</td>\n",
       "      <td>45371</td>\n",
       "    </tr>\n",
       "    <tr>\n",
       "      <th>1</th>\n",
       "      <td>2: MI</td>\n",
       "      <td>660</td>\n",
       "      <td>648</td>\n",
       "      <td>89</td>\n",
       "      <td>20484</td>\n",
       "    </tr>\n",
       "    <tr>\n",
       "      <th>2</th>\n",
       "      <td>3: SI</td>\n",
       "      <td>212</td>\n",
       "      <td>224</td>\n",
       "      <td>35</td>\n",
       "      <td>2507</td>\n",
       "    </tr>\n",
       "    <tr>\n",
       "      <th>3</th>\n",
       "      <td>4: Fatal</td>\n",
       "      <td>55</td>\n",
       "      <td>52</td>\n",
       "      <td>27</td>\n",
       "      <td>317</td>\n",
       "    </tr>\n",
       "  </tbody>\n",
       "</table>\n",
       "</div>"
      ],
      "text/plain": [
       "  CSEF Severity  On Drug  On Alc  On both  On None\n",
       "0        1: PDO      152    1149       24    45371\n",
       "1         2: MI      660     648       89    20484\n",
       "2         3: SI      212     224       35     2507\n",
       "3      4: Fatal       55      52       27      317"
      ]
     },
     "execution_count": 161,
     "metadata": {},
     "output_type": "execute_result"
    }
   ],
   "source": [
    "crash_result = df_drgus_percentage.join(df_alcohol_percentage.select('CSEF Severity',col('Count').alias('On Alc')),'CSEF Severity')\\\n",
    "    .join(df_drgus_alcohol_percentage.select('CSEF Severity',col('Count').alias('On Both')),'CSEF Severity')\\\n",
    "    .join(df_none_drgus_alcohol_percentage.select('CSEF Severity',col('Count').alias('On None')),'CSEF Severity')\\\n",
    "    .select('CSEF Severity',col('Count').alias('On Drug'),'On Alc','On both','On None').orderBy('CSEF Severity')\n",
    "crash_result.toPandas().head()"
   ]
  },
  {
   "cell_type": "code",
   "execution_count": 160,
   "metadata": {},
   "outputs": [
    {
     "data": {
      "text/plain": [
       "<AxesSubplot:xlabel='CSEF Severity'>"
      ]
     },
     "execution_count": 160,
     "metadata": {},
     "output_type": "execute_result"
    },
    {
     "data": {
      "image/png": "[encoded data removed]",
      "text/plain": [
       "<Figure size 432x288 with 1 Axes>"
      ]
     },
     "metadata": {
      "needs_background": "light"
     },
     "output_type": "display_data"
    }
   ],
   "source": [
    "import numpy as np\n",
    "import matplotlib.pyplot as plt\n",
    "import pandas as pd\n",
    "crash_result.toPandas().plot(x='CSEF Severity',kind = 'bar')\n",
    "# drug = crash_result.select('On Drug').Values.toList()\n",
    "# print(drug)\n",
    "# Alcohol = crash_result.select('On Alc').collect()\n",
    "# both = crash_result.select('On Both').collect()\n",
    "# on_none = crash_result.select('On None').collect()\n",
    "# x = np.arange(5)\n",
    "# plt.bar(x, drug,0.35)"
   ]
  },
  {
   "cell_type": "markdown",
   "metadata": {},
   "source": [
    "# 2.4 RDDs vs DataFrame vs Spark SQL (20\t%) \n",
    "Implement the following queries using RDDs, DataFrames and SparkSQL separately. Log the time taken for each query in each approach using the “%%time” built-in magic command in Jupyter Notebook and discuss the performance difference of these 3 approaches. \n",
    "\n"
   ]
  },
  {
   "cell_type": "markdown",
   "metadata": {},
   "source": [
    "1.\tFind the Date  and Time of Crash, Number of Casualties in each unit and the Gender, Age, License Type of the unit driver for the suburb \"Adelaide\"."
   ]
  },
  {
   "cell_type": "code",
   "execution_count": 89,
   "metadata": {},
   "outputs": [],
   "source": [
    "from pyspark.sql.functions import concat_w"
   ]
  },
  {
   "cell_type": "code",
   "execution_count": 169,
   "metadata": {},
   "outputs": [
    {
     "name": "stdout",
     "output_type": "stream",
     "text": [
      "+--------------------+--------+---------+-------+---+------------+\n",
      "|                Date|    Time|Total Cas|    Sex|Age|Licence Type|\n",
      "+--------------------+--------+---------+-------+---+------------+\n",
      "|2016-November-Wed...|01:45 pm|        1|   Male|056|        Full|\n",
      "|2016-November-Wed...|01:45 pm|        1|   Male|072|        null|\n",
      "|2016-November-Tue...|03:40 pm|        1|   Male|056|        null|\n",
      "|2016-November-Tue...|03:40 pm|        1| Female|027|        null|\n",
      "|2016-November-Tue...|05:00 pm|        0| Female|032|        Full|\n",
      "|2016-November-Tue...|05:00 pm|        0|Unknown|XXX|     Unknown|\n",
      "|2016-November-Tue...|05:40 pm|        0|   Male|022|     Unknown|\n",
      "|2016-November-Tue...|05:40 pm|        0|   Male|020|     Unknown|\n",
      "|2016-November-Monday|11:26 pm|        0|Unknown|XXX|     Unknown|\n",
      "|2016-November-Monday|11:26 pm|        0|   Male|042|        Full|\n",
      "+--------------------+--------+---------+-------+---+------------+\n",
      "only showing top 10 rows\n",
      "\n",
      "CPU times: user 7.29 ms, sys: 0 ns, total: 7.29 ms\n",
      "Wall time: 411 ms\n"
     ]
    }
   ],
   "source": [
    "%%time\n",
    "df_crash_unit.filter(col('Suburb') == 'ADELAIDE')\\\n",
    "    .withColumn('Date',concat_ws('-',df_crash_unit['Year'],df_crash_unit['Month'],df_crash_unit['Day']))\\\n",
    "    .select('Date','Time','Total Cas','Sex','Age','Licence Type').show(10)"
   ]
  },
  {
   "cell_type": "code",
   "execution_count": 120,
   "metadata": {},
   "outputs": [
    {
     "data": {
      "text/plain": [
       "[('2016-13-15/08/2019',\n",
       "  (['01',\n",
       "    '0',\n",
       "    'SA',\n",
       "    'Station Wagon',\n",
       "    '2014',\n",
       "    'North East',\n",
       "    'Female',\n",
       "    '071',\n",
       "    'SA',\n",
       "    'C ',\n",
       "    'Full',\n",
       "    'Not Towing',\n",
       "    'Straight Ahead',\n",
       "    '003',\n",
       "    'XXXX',\n",
       "    '',\n",
       "    ''],\n",
       "   ['2 Metropolitan',\n",
       "    'CHAIN OF PONDS',\n",
       "    '5231',\n",
       "    'THE ADELAIDE HILLS COUNCIL',\n",
       "    '2',\n",
       "    '0',\n",
       "    '0',\n",
       "    '0',\n",
       "    '0',\n",
       "    '2016',\n",
       "    'November',\n",
       "    'Tuesday',\n",
       "    '10:00 am',\n",
       "    '100',\n",
       "    'T-Junction',\n",
       "    'CURVED',\n",
       "    ' VIEW OBSCURED',\n",
       "    'Slope',\n",
       "    'Not Applicable',\n",
       "    'Sealed',\n",
       "    'Dry',\n",
       "    'Not Raining',\n",
       "    'Daylight',\n",
       "    'Rear End',\n",
       "    '02',\n",
       "    'Driver Rider',\n",
       "    '1: PDO',\n",
       "    'Stop Sign',\n",
       "    '',\n",
       "    '',\n",
       "    '1350159.92',\n",
       "    '1681400.52',\n",
       "    '13501601681401'])),\n",
       " ('2016-13-15/08/2019',\n",
       "  (['02',\n",
       "    '0',\n",
       "    'SA',\n",
       "    'Motor Cars - Sedan',\n",
       "    '2015',\n",
       "    'North East',\n",
       "    'Female',\n",
       "    '059',\n",
       "    'UNKNOWN',\n",
       "    'C ',\n",
       "    'Full',\n",
       "    'Not Towing',\n",
       "    'Straight Ahead',\n",
       "    '001',\n",
       "    'XXXX',\n",
       "    '',\n",
       "    ''],\n",
       "   ['2 Metropolitan',\n",
       "    'CHAIN OF PONDS',\n",
       "    '5231',\n",
       "    'THE ADELAIDE HILLS COUNCIL',\n",
       "    '2',\n",
       "    '0',\n",
       "    '0',\n",
       "    '0',\n",
       "    '0',\n",
       "    '2016',\n",
       "    'November',\n",
       "    'Tuesday',\n",
       "    '10:00 am',\n",
       "    '100',\n",
       "    'T-Junction',\n",
       "    'CURVED',\n",
       "    ' VIEW OBSCURED',\n",
       "    'Slope',\n",
       "    'Not Applicable',\n",
       "    'Sealed',\n",
       "    'Dry',\n",
       "    'Not Raining',\n",
       "    'Daylight',\n",
       "    'Rear End',\n",
       "    '02',\n",
       "    'Driver Rider',\n",
       "    '1: PDO',\n",
       "    'Stop Sign',\n",
       "    '',\n",
       "    '',\n",
       "    '1350159.92',\n",
       "    '1681400.52',\n",
       "    '13501601681401'])),\n",
       " ('2016-22-15/08/2019',\n",
       "  (['01',\n",
       "    '0',\n",
       "    'SA',\n",
       "    'Station Wagon',\n",
       "    '2003',\n",
       "    'South West',\n",
       "    'Female',\n",
       "    '030',\n",
       "    'UNKNOWN',\n",
       "    'XX',\n",
       "    'Unknown',\n",
       "    'Not Towing',\n",
       "    'Right Turn',\n",
       "    '001',\n",
       "    'XXXX',\n",
       "    '',\n",
       "    ''],\n",
       "   ['2 Metropolitan',\n",
       "    'SALISBURY',\n",
       "    '5108',\n",
       "    'CITY OF SALISBURY',\n",
       "    '2',\n",
       "    '0',\n",
       "    '0',\n",
       "    '0',\n",
       "    '0',\n",
       "    '2016',\n",
       "    'November',\n",
       "    'Tuesday',\n",
       "    '07:30 am',\n",
       "    '060',\n",
       "    'T-Junction',\n",
       "    'CURVED',\n",
       "    ' VIEW OPEN',\n",
       "    'Level',\n",
       "    'Not Applicable',\n",
       "    'Sealed',\n",
       "    'Dry',\n",
       "    'Not Raining',\n",
       "    'Daylight',\n",
       "    'Right Angle',\n",
       "    '02',\n",
       "    'Driver Rider',\n",
       "    '1: PDO',\n",
       "    'Traffic Signals',\n",
       "    '',\n",
       "    '',\n",
       "    '1333126.64',\n",
       "    '1688469.42',\n",
       "    '13331271688469'])),\n",
       " ('2016-22-15/08/2019',\n",
       "  (['02',\n",
       "    '0',\n",
       "    'SA',\n",
       "    'Motor Cars - Sedan',\n",
       "    '1994',\n",
       "    'East',\n",
       "    'Male',\n",
       "    '052',\n",
       "    'SA',\n",
       "    'MR',\n",
       "    'Full',\n",
       "    'Trailer',\n",
       "    'Straight Ahead',\n",
       "    '001',\n",
       "    '5109',\n",
       "    '',\n",
       "    ''],\n",
       "   ['2 Metropolitan',\n",
       "    'SALISBURY',\n",
       "    '5108',\n",
       "    'CITY OF SALISBURY',\n",
       "    '2',\n",
       "    '0',\n",
       "    '0',\n",
       "    '0',\n",
       "    '0',\n",
       "    '2016',\n",
       "    'November',\n",
       "    'Tuesday',\n",
       "    '07:30 am',\n",
       "    '060',\n",
       "    'T-Junction',\n",
       "    'CURVED',\n",
       "    ' VIEW OPEN',\n",
       "    'Level',\n",
       "    'Not Applicable',\n",
       "    'Sealed',\n",
       "    'Dry',\n",
       "    'Not Raining',\n",
       "    'Daylight',\n",
       "    'Right Angle',\n",
       "    '02',\n",
       "    'Driver Rider',\n",
       "    '1: PDO',\n",
       "    'Traffic Signals',\n",
       "    '',\n",
       "    '',\n",
       "    '1333126.64',\n",
       "    '1688469.42',\n",
       "    '13331271688469'])),\n",
       " ('2016-40-15/08/2019',\n",
       "  (['01',\n",
       "    '1',\n",
       "    'SA',\n",
       "    'Motor Cars - Sedan',\n",
       "    '1991',\n",
       "    'North',\n",
       "    'Female',\n",
       "    '021',\n",
       "    'SA',\n",
       "    'C ',\n",
       "    'Full',\n",
       "    'Not Towing',\n",
       "    'Right Turn',\n",
       "    '001',\n",
       "    'XXXX',\n",
       "    '',\n",
       "    ''],\n",
       "   ['2 Metropolitan',\n",
       "    'BRIGHTON',\n",
       "    '5048',\n",
       "    'CITY OF HOLDFAST BAY',\n",
       "    '2',\n",
       "    '3',\n",
       "    '0',\n",
       "    '0',\n",
       "    '3',\n",
       "    '2016',\n",
       "    'November',\n",
       "    'Wednesday',\n",
       "    '09:45 am',\n",
       "    '060',\n",
       "    'T-Junction',\n",
       "    'Straight road',\n",
       "    'Level',\n",
       "    'Not Applicable',\n",
       "    'Sealed',\n",
       "    'Dry',\n",
       "    'Not Raining',\n",
       "    'Daylight',\n",
       "    'Right Angle',\n",
       "    '01',\n",
       "    'Driver Rider',\n",
       "    '2: MI',\n",
       "    'No Control',\n",
       "    '',\n",
       "    '',\n",
       "    '1321321.71',\n",
       "    '1660558.92',\n",
       "    '13213221660559'])),\n",
       " ('2016-40-15/08/2019',\n",
       "  (['02',\n",
       "    '2',\n",
       "    'SA',\n",
       "    'Motor Cars - Sedan',\n",
       "    '1995',\n",
       "    'West',\n",
       "    'Female',\n",
       "    'XXX',\n",
       "    'SA',\n",
       "    'C ',\n",
       "    'Full',\n",
       "    'Not Towing',\n",
       "    'Straight Ahead',\n",
       "    '002',\n",
       "    '5033',\n",
       "    '',\n",
       "    ''],\n",
       "   ['2 Metropolitan',\n",
       "    'BRIGHTON',\n",
       "    '5048',\n",
       "    'CITY OF HOLDFAST BAY',\n",
       "    '2',\n",
       "    '3',\n",
       "    '0',\n",
       "    '0',\n",
       "    '3',\n",
       "    '2016',\n",
       "    'November',\n",
       "    'Wednesday',\n",
       "    '09:45 am',\n",
       "    '060',\n",
       "    'T-Junction',\n",
       "    'Straight road',\n",
       "    'Level',\n",
       "    'Not Applicable',\n",
       "    'Sealed',\n",
       "    'Dry',\n",
       "    'Not Raining',\n",
       "    'Daylight',\n",
       "    'Right Angle',\n",
       "    '01',\n",
       "    'Driver Rider',\n",
       "    '2: MI',\n",
       "    'No Control',\n",
       "    '',\n",
       "    '',\n",
       "    '1321321.71',\n",
       "    '1660558.92',\n",
       "    '13213221660559'])),\n",
       " ('2016-63-15/08/2019',\n",
       "  (['01',\n",
       "    '0',\n",
       "    'SA',\n",
       "    'Motor Cars - Sedan',\n",
       "    '2010',\n",
       "    'South',\n",
       "    'Female',\n",
       "    '040',\n",
       "    'SA',\n",
       "    'C ',\n",
       "    'Full',\n",
       "    'Not Towing',\n",
       "    'Leaving Private Driveway',\n",
       "    '001',\n",
       "    '5007',\n",
       "    '',\n",
       "    ''],\n",
       "   ['2 Metropolitan',\n",
       "    'FERRYDEN PARK',\n",
       "    '5010',\n",
       "    'CITY OF PORT ADELAIDE ENFIELD',\n",
       "    '2',\n",
       "    '0',\n",
       "    '0',\n",
       "    '0',\n",
       "    '0',\n",
       "    '2016',\n",
       "    'November',\n",
       "    'Wednesday',\n",
       "    '11:50 am',\n",
       "    '050',\n",
       "    'Not Divided',\n",
       "    'Straight road',\n",
       "    'Level',\n",
       "    'Driveway or Entrance',\n",
       "    'Sealed',\n",
       "    'Dry',\n",
       "    'Not Raining',\n",
       "    'Daylight',\n",
       "    'Hit Parked Vehicle',\n",
       "    '01',\n",
       "    'Driver Rider',\n",
       "    '1: PDO',\n",
       "    'No Control',\n",
       "    '',\n",
       "    '',\n",
       "    '1325289.41',\n",
       "    '1676935.7',\n",
       "    '13252891676936'])),\n",
       " ('2016-63-15/08/2019',\n",
       "  (['02',\n",
       "    '0',\n",
       "    'UNKNOWN',\n",
       "    'Motor Vehicle - Type Unknown',\n",
       "    'XXXX',\n",
       "    'East',\n",
       "    '',\n",
       "    '',\n",
       "    '',\n",
       "    '',\n",
       "    '',\n",
       "    'Unknown',\n",
       "    'Parked',\n",
       "    '000',\n",
       "    '',\n",
       "    '',\n",
       "    ''],\n",
       "   ['2 Metropolitan',\n",
       "    'FERRYDEN PARK',\n",
       "    '5010',\n",
       "    'CITY OF PORT ADELAIDE ENFIELD',\n",
       "    '2',\n",
       "    '0',\n",
       "    '0',\n",
       "    '0',\n",
       "    '0',\n",
       "    '2016',\n",
       "    'November',\n",
       "    'Wednesday',\n",
       "    '11:50 am',\n",
       "    '050',\n",
       "    'Not Divided',\n",
       "    'Straight road',\n",
       "    'Level',\n",
       "    'Driveway or Entrance',\n",
       "    'Sealed',\n",
       "    'Dry',\n",
       "    'Not Raining',\n",
       "    'Daylight',\n",
       "    'Hit Parked Vehicle',\n",
       "    '01',\n",
       "    'Driver Rider',\n",
       "    '1: PDO',\n",
       "    'No Control',\n",
       "    '',\n",
       "    '',\n",
       "    '1325289.41',\n",
       "    '1676935.7',\n",
       "    '13252891676936'])),\n",
       " ('2016-64-15/08/2019',\n",
       "  (['01',\n",
       "    '0',\n",
       "    'SA',\n",
       "    'Utility',\n",
       "    '1995',\n",
       "    'North West',\n",
       "    'Female',\n",
       "    '058',\n",
       "    'SA',\n",
       "    'C ',\n",
       "    'Full',\n",
       "    'Not Towing',\n",
       "    'Overtaking - on Right',\n",
       "    '001',\n",
       "    'XXXX',\n",
       "    '',\n",
       "    ''],\n",
       "   ['3 Country',\n",
       "    'MOUNT HOPE',\n",
       "    '5607',\n",
       "    'DC LOWER EYRE PENINSULA       ',\n",
       "    '2',\n",
       "    '0',\n",
       "    '0',\n",
       "    '0',\n",
       "    '0',\n",
       "    '2016',\n",
       "    'November',\n",
       "    'Tuesday',\n",
       "    '09:30 am',\n",
       "    '110',\n",
       "    'Not Divided',\n",
       "    'Straight road',\n",
       "    'Level',\n",
       "    'Not Applicable',\n",
       "    'Sealed',\n",
       "    'Dry',\n",
       "    'Not Raining',\n",
       "    'Daylight',\n",
       "    'Side Swipe',\n",
       "    '02',\n",
       "    'Driver Rider',\n",
       "    '1: PDO',\n",
       "    'No Control',\n",
       "    '',\n",
       "    '',\n",
       "    '1035229.02',\n",
       "    '1761027.22',\n",
       "    '10352291761027'])),\n",
       " ('2016-64-15/08/2019',\n",
       "  (['02',\n",
       "    '0',\n",
       "    'SA',\n",
       "    'BDOUBLE - ROAD TRAIN',\n",
       "    'XXXX',\n",
       "    'North West',\n",
       "    'Male',\n",
       "    '039',\n",
       "    'SA',\n",
       "    'MC',\n",
       "    'Full',\n",
       "    'Trailer',\n",
       "    'Swerving',\n",
       "    '001',\n",
       "    '5043',\n",
       "    '',\n",
       "    ''],\n",
       "   ['3 Country',\n",
       "    'MOUNT HOPE',\n",
       "    '5607',\n",
       "    'DC LOWER EYRE PENINSULA       ',\n",
       "    '2',\n",
       "    '0',\n",
       "    '0',\n",
       "    '0',\n",
       "    '0',\n",
       "    '2016',\n",
       "    'November',\n",
       "    'Tuesday',\n",
       "    '09:30 am',\n",
       "    '110',\n",
       "    'Not Divided',\n",
       "    'Straight road',\n",
       "    'Level',\n",
       "    'Not Applicable',\n",
       "    'Sealed',\n",
       "    'Dry',\n",
       "    'Not Raining',\n",
       "    'Daylight',\n",
       "    'Side Swipe',\n",
       "    '02',\n",
       "    'Driver Rider',\n",
       "    '1: PDO',\n",
       "    'No Control',\n",
       "    '',\n",
       "    '',\n",
       "    '1035229.02',\n",
       "    '1761027.22',\n",
       "    '10352291761027']))]"
      ]
     },
     "execution_count": 120,
     "metadata": {},
     "output_type": "execute_result"
    }
   ],
   "source": [
    "rdd_join_unit_crash = rdd_units.map(lambda x:x.split(',')).map(lambda x:(x[0],x[1:]))\\\n",
    "    .join(rdd_crash.map(lambda x:x.split(',')).map(lambda x:(x[0],x[1:])))\n",
    "rdd_join_unit_crash.take(10)"
   ]
  },
  {
   "cell_type": "code",
   "execution_count": 204,
   "metadata": {},
   "outputs": [
    {
     "name": "stdout",
     "output_type": "stream",
     "text": [
      "CPU times: user 12.8 ms, sys: 4.49 ms, total: 17.3 ms\n",
      "Wall time: 216 ms\n"
     ]
    },
    {
     "data": {
      "text/plain": [
       "[('2016-November-Wednesday', '04:26 pm', '0', 'Male', '017', 'Unknown'),\n",
       " ('2016-November-Wednesday', '04:26 pm', '0', 'Male', '025', 'Unknown'),\n",
       " ('2016-December-Friday', '11:30 am', '0', 'Male', '080', 'Full'),\n",
       " ('2016-December-Friday', '11:30 am', '0', 'Male', '048', 'Full'),\n",
       " ('2016-December-Saturday', '07:40 am', '0', 'Male', '032', 'Full'),\n",
       " ('2016-December-Saturday', '07:40 am', '0', 'Unknown', 'XXX', 'Unknown'),\n",
       " ('2016-December-Friday', '05:30 pm', '0', 'Female', '058', 'Full'),\n",
       " ('2016-December-Friday', '05:30 pm', '0', 'Male', '041', 'Full'),\n",
       " ('2016-December-Wednesday', '04:20 pm', '0', 'Female', '045', 'Full'),\n",
       " ('2016-December-Wednesday', '04:20 pm', '0', 'Male', '027', 'Full')]"
      ]
     },
     "execution_count": 204,
     "metadata": {},
     "output_type": "execute_result"
    }
   ],
   "source": [
    "%%time\n",
    "rdd_join = rdd_join_unit_crash.filter(lambda x:x[1][1][1]=='ADELAIDE').map(lambda x:(x[0],x[1]))\n",
    "rdd_join.map(lambda field: (field[1][1][9]  + \"-\" + field[1][1][10] + \"-\" + field[1][1][11]\\\n",
    "                                    , field[1][1][12], field[1][1][5], field[1][0][6], field[1][0][7]\\\n",
    "                                    , field[1][0][10]) ).take(10)"
   ]
  },
  {
   "cell_type": "code",
   "execution_count": 87,
   "metadata": {},
   "outputs": [],
   "source": [
    "df_crash_unit.createOrReplaceTempView(\"sql_events\")"
   ]
  },
  {
   "cell_type": "code",
   "execution_count": 215,
   "metadata": {},
   "outputs": [
    {
     "name": "stdout",
     "output_type": "stream",
     "text": [
      "+--------------------+--------+---------+-------+---+------------+\n",
      "|                Date|    Time|Total Cas|    Sex|Age|Licence Type|\n",
      "+--------------------+--------+---------+-------+---+------------+\n",
      "|2016-November-Wed...|01:45 pm|        1|   Male|056|        Full|\n",
      "|2016-November-Wed...|01:45 pm|        1|   Male|072|        null|\n",
      "|2016-November-Tue...|03:40 pm|        1|   Male|056|        null|\n",
      "|2016-November-Tue...|03:40 pm|        1| Female|027|        null|\n",
      "|2016-November-Tue...|05:00 pm|        0| Female|032|        Full|\n",
      "|2016-November-Tue...|05:00 pm|        0|Unknown|XXX|     Unknown|\n",
      "|2016-November-Tue...|05:40 pm|        0|   Male|022|     Unknown|\n",
      "|2016-November-Tue...|05:40 pm|        0|   Male|020|     Unknown|\n",
      "|2016-November-Monday|11:26 pm|        0|Unknown|XXX|     Unknown|\n",
      "|2016-November-Monday|11:26 pm|        0|   Male|042|        Full|\n",
      "+--------------------+--------+---------+-------+---+------------+\n",
      "only showing top 10 rows\n",
      "\n",
      "CPU times: user 1.33 ms, sys: 157 µs, total: 1.49 ms\n",
      "Wall time: 378 ms\n"
     ]
    }
   ],
   "source": [
    "%%time\n",
    "spark.sql(\n",
    "    '''\n",
    "    select Year || '-' || Month || '-' || Day as Date, Time, `Total Cas`, Sex, Age, `Licence Type` \n",
    "    from sql_events\n",
    "    where Suburb = 'ADELAIDE'\n",
    "    ''').show(10)"
   ]
  },
  {
   "cell_type": "markdown",
   "metadata": {},
   "source": [
    "DF(411ms)>SQL(378ms)>RDD(216ms)"
   ]
  },
  {
   "cell_type": "markdown",
   "metadata": {},
   "source": [
    "2.\tFind the total number of casualties for each suburb when the vehicle was driven by an unlicensed driver. You are required to display the name of the suburb and the total number of casualties. "
   ]
  },
  {
   "cell_type": "code",
   "execution_count": 167,
   "metadata": {},
   "outputs": [
    {
     "name": "stdout",
     "output_type": "stream",
     "text": [
      "+--------------+-----+\n",
      "|        Suburb|Total|\n",
      "+--------------+-----+\n",
      "|ABERFOYLE PARK|  1.0|\n",
      "|      ADELAIDE| 19.0|\n",
      "|   ALBERT PARK|  2.0|\n",
      "|      ALBERTON|  2.0|\n",
      "|       ALDINGA|  3.0|\n",
      "+--------------+-----+\n",
      "only showing top 5 rows\n",
      "\n",
      "CPU times: user 73 µs, sys: 4.32 ms, total: 4.4 ms\n",
      "Wall time: 1.3 s\n"
     ]
    }
   ],
   "source": [
    "%%time\n",
    "df_crash_unit.filter(col('Licence Type') == 'Unlicenced')\\\n",
    "    .groupBy('Suburb')\\\n",
    "    .agg(F.sum('Total Cas').alias('Total'))\\\n",
    "    .orderBy('Suburb',ascending = True).show(5)\n"
   ]
  },
  {
   "cell_type": "code",
   "execution_count": 163,
   "metadata": {},
   "outputs": [
    {
     "name": "stdout",
     "output_type": "stream",
     "text": [
      "CPU times: user 36.4 ms, sys: 3.58 ms, total: 40 ms\n",
      "Wall time: 1.94 s\n"
     ]
    },
    {
     "data": {
      "text/plain": [
       "[('ABERFOYLE PARK', 1),\n",
       " ('ADELAIDE', 19),\n",
       " ('ALBERT PARK', 2),\n",
       " ('ALBERTON', 2),\n",
       " ('ALDINGA', 3)]"
      ]
     },
     "execution_count": 163,
     "metadata": {},
     "output_type": "execute_result"
    }
   ],
   "source": [
    "%%time\n",
    "rdd_join_unit_crash.filter(lambda x:x[1][0][10] == 'Unlicenced')\\\n",
    "    .map(lambda x:(x[1][1][1],int(x[1][1][5])))\\\n",
    "    .reduceByKey(lambda x,y:x+y)\\\n",
    "    .sortByKey().take(5)\n",
    "                                                             \n"
   ]
  },
  {
   "cell_type": "code",
   "execution_count": 168,
   "metadata": {},
   "outputs": [
    {
     "name": "stdout",
     "output_type": "stream",
     "text": [
      "+--------------+-----+\n",
      "|        Suburb|Total|\n",
      "+--------------+-----+\n",
      "|ABERFOYLE PARK|  1.0|\n",
      "|      ADELAIDE| 19.0|\n",
      "|   ALBERT PARK|  2.0|\n",
      "|      ALBERTON|  2.0|\n",
      "|       ALDINGA|  3.0|\n",
      "+--------------+-----+\n",
      "only showing top 5 rows\n",
      "\n",
      "CPU times: user 1.46 ms, sys: 161 µs, total: 1.62 ms\n",
      "Wall time: 1.33 s\n"
     ]
    }
   ],
   "source": [
    "%%time\n",
    "spark.sql(\n",
    "    '''\n",
    "    select Suburb, sum(`Total Cas`) as Total \n",
    "    from sql_events \n",
    "    where `Licence Type` = \"Unlicenced\" \n",
    "    group by Suburb \n",
    "    order by Suburb\n",
    "    '''\n",
    ").show(5)"
   ]
  },
  {
   "cell_type": "markdown",
   "metadata": {},
   "source": [
    "RDD(1.94s) > SQL(1.33s) >DF(1.31s)"
   ]
  }
 ],
 "metadata": {
  "kernelspec": {
   "display_name": "Python 3",
   "language": "python",
   "name": "python3"
  },
  "language_info": {
   "codemirror_mode": {
    "name": "ipython",
    "version": 3
   },
   "file_extension": ".py",
   "mimetype": "text/x-python",
   "name": "python",
   "nbconvert_exporter": "python",
   "pygments_lexer": "ipython3",
   "version": "3.8.2"
  }
 },
 "nbformat": 4,
 "nbformat_minor": 4
}
